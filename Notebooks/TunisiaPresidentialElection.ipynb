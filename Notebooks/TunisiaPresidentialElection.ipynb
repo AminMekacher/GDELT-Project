{
 "cells": [
  {
   "cell_type": "code",
   "execution_count": 2,
   "metadata": {},
   "outputs": [],
   "source": [
    "import pandas as pd\n",
    "import numpy as np\n",
    "\n",
    "import matplotlib.pyplot as plt\n",
    "import networkx as nx\n",
    "\n",
    "import pycountry\n",
    "import seaborn as sns"
   ]
  },
  {
   "cell_type": "markdown",
   "metadata": {},
   "source": [
    "**Goal of this notebook: study the presence of the media and their coverage of the events happening in Tunisia, during the presidential elections which happened in 2014**"
   ]
  },
  {
   "cell_type": "code",
   "execution_count": 3,
   "metadata": {},
   "outputs": [],
   "source": [
    "tunisia_actor1 = pd.read_csv('../TunisiaActor1.csv', sep = ',', decimal = '.')\n",
    "tunisia_actor2 = pd.read_csv('../TunisiaActor2.csv', sep = ',', decimal = '.')\n",
    "\n",
    "tunisia_actor_tot = pd.concat([tunisia_actor1, tunisia_actor2], axis=0)\n",
    "tunisia_actor_tot.reset_index(inplace=True)\n",
    "\n",
    "nodes1 = tunisia_actor1['SOURCEURL'].size\n",
    "nodes2 = tunisia_actor2['SOURCEURL'].size\n",
    "nodes_tot = tunisia_actor_tot['SOURCEURL'].size"
   ]
  },
  {
   "cell_type": "code",
   "execution_count": 5,
   "metadata": {},
   "outputs": [
    {
     "data": {
      "text/plain": [
       "0        20141108\n",
       "1        20141108\n",
       "2        20141026\n",
       "3        20141026\n",
       "4        20141118\n",
       "5        20141027\n",
       "6        20141119\n",
       "7        20141114\n",
       "8        20141114\n",
       "9        20141114\n",
       "10       20141020\n",
       "11       20141020\n",
       "12       20141030\n",
       "13       20141009\n",
       "14       20141120\n",
       "15       20141120\n",
       "16       20141108\n",
       "17       20141123\n",
       "18       20141123\n",
       "19       20141025\n",
       "20       20141005\n",
       "21       20141201\n",
       "22       20141201\n",
       "23       20141106\n",
       "24       20141106\n",
       "25       20141124\n",
       "26       20141124\n",
       "27       20141014\n",
       "28       20141027\n",
       "29       20141022\n",
       "           ...   \n",
       "10425    20141124\n",
       "10426    20141120\n",
       "10427    20141119\n",
       "10428    20141023\n",
       "10429    20141015\n",
       "10430    20141016\n",
       "10431    20141015\n",
       "10432    20141015\n",
       "10433    20141106\n",
       "10434    20141106\n",
       "10435    20141106\n",
       "10436    20141106\n",
       "10437    20141105\n",
       "10438    20141001\n",
       "10439    20141122\n",
       "10440    20141122\n",
       "10441    20141026\n",
       "10442    20141026\n",
       "10443    20141026\n",
       "10444    20141027\n",
       "10445    20141027\n",
       "10446    20141026\n",
       "10447    20141026\n",
       "10448    20141030\n",
       "10449    20141201\n",
       "10450    20141201\n",
       "10451    20141201\n",
       "10452    20141130\n",
       "10453    20141024\n",
       "10454    20141014\n",
       "Name: SQLDATE, Length: 10455, dtype: int64"
      ]
     },
     "execution_count": 5,
     "metadata": {},
     "output_type": "execute_result"
    }
   ],
   "source": [
    "tunisia_actor_tot['SQLDATE']"
   ]
  },
  {
   "cell_type": "code",
   "execution_count": 9,
   "metadata": {},
   "outputs": [],
   "source": [
    "# Study of the news outlet involved during the presidential election period\n",
    "\n",
    "web_news = [''] * nodes_tot\n",
    "media_df = pd.DataFrame(columns=['Medias','Ocurrences'])\n",
    "\n",
    "for row in range(0, nodes_tot):\n",
    "    temp = tunisia_actor_tot['SOURCEURL'][row].rsplit('//')\n",
    "    \n",
    "    if len(temp) == 2:\n",
    "        temp2 = temp[1].rsplit('/')[0]\n",
    "        web_news[row] = temp2\n",
    "    else:\n",
    "        web_news[row] = ''\n",
    "    \n",
    "    if web_news[row] not in media_df['Medias'].values:\n",
    "        media_df.loc[len(media_df)]=[web_news[row], 1] \n",
    "    else:\n",
    "        media_df.loc[media_df['Medias'] == web_news[row], 'Ocurrences'] += 1"
   ]
  },
  {
   "cell_type": "code",
   "execution_count": 21,
   "metadata": {},
   "outputs": [
    {
     "name": "stderr",
     "output_type": "stream",
     "text": [
      "/Users/aminmekacher/miniconda3/envs/gdelt_project/lib/python3.6/site-packages/scipy/stats/stats.py:1713: FutureWarning: Using a non-tuple sequence for multidimensional indexing is deprecated; use `arr[tuple(seq)]` instead of `arr[seq]`. In the future this will be interpreted as an array index, `arr[np.array(seq)]`, which will result either in an error or a different result.\n",
      "  return np.add.reduce(sorted[indexer] * weights, axis=axis) / sumval\n"
     ]
    },
    {
     "data": {
      "image/png": "[encoded data removed]",
      "text/plain": [
       "<Figure size 432x288 with 1 Axes>"
      ]
     },
     "metadata": {},
     "output_type": "display_data"
    }
   ],
   "source": [
    "goldstein_df = tunisia_actor_tot['GoldsteinScale']\n",
    "np.max(goldstein_df), np.min(goldstein_df), np.mean(goldstein_df)\n",
    "\n",
    "ax = sns.distplot(goldstein_df)"
   ]
  },
  {
   "cell_type": "code",
   "execution_count": 22,
   "metadata": {},
   "outputs": [
    {
     "data": {
      "text/plain": [
       "<matplotlib.axes._subplots.AxesSubplot at 0xa24937358>"
      ]
     },
     "execution_count": 22,
     "metadata": {},
     "output_type": "execute_result"
    },
    {
     "data": {
      "image/png": "[encoded data removed]",
      "text/plain": [
       "<Figure size 432x288 with 1 Axes>"
      ]
     },
     "metadata": {},
     "output_type": "display_data"
    }
   ],
   "source": [
    "#avgtone_df = swiss_df['AvgTone']\n",
    "tunisia_actor_tot.plot(x='GoldsteinScale', y='AvgTone', style='o')"
   ]
  },
  {
   "cell_type": "code",
   "execution_count": null,
   "metadata": {},
   "outputs": [],
   "source": []
  }
 ],
 "metadata": {
  "kernelspec": {
   "display_name": "Python 3",
   "language": "python",
   "name": "python3"
  },
  "language_info": {
   "codemirror_mode": {
    "name": "ipython",
    "version": 3
   },
   "file_extension": ".py",
   "mimetype": "text/x-python",
   "name": "python",
   "nbconvert_exporter": "python",
   "pygments_lexer": "ipython3",
   "version": "3.6.6"
  }
 },
 "nbformat": 4,
 "nbformat_minor": 2
}
