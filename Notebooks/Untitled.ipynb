{
 "cells": [
  {
   "cell_type": "code",
   "execution_count": 1,
   "metadata": {},
   "outputs": [],
   "source": [
    "import pandas as pd\n",
    "import numpy as np\n",
    "\n",
    "import matplotlib.pyplot as plt\n",
    "import networkx as nx\n",
    "\n",
    "import pycountry\n",
    "import seaborn as sns\n",
    "import math"
   ]
  },
  {
   "cell_type": "code",
   "execution_count": 2,
   "metadata": {},
   "outputs": [],
   "source": [
    "tunisia_2018 = pd.read_csv('20180925120000.translation.gkg.csv', sep = ',', decimal = '.', encoding='latin-1')"
   ]
  },
  {
   "cell_type": "code",
   "execution_count": 3,
   "metadata": {},
   "outputs": [],
   "source": [
    "tunisia_2018.columns\n",
    "nb_event = tunisia_2018['GKGRECORDID'].size"
   ]
  },
  {
   "cell_type": "code",
   "execution_count": 7,
   "metadata": {},
   "outputs": [
    {
     "name": "stdout",
     "output_type": "stream",
     "text": [
      "Tunisia:  Vclav Nekvapil,1917\n",
      "Tunisia:  nan\n",
      "Tunisia:  nan\n",
      "Tunisia:  nan\n",
      "Tunisia:  E Begum Corporal,3026;Erhan Yaylaci,2351\n",
      "Tunisia:  El Sebsi,193\n",
      "Tunisia:  Nabil Mazmi,994;Haitham Abdul Razak,1057;Ibrahim Salem,754;Walid Al Zoabi,980;Fatima Valehi,1024\n",
      "Tunisia:  nan\n",
      "Tunisia:  Sheikha Moza,34;Sumal Al Fidiraliyah,1338;Ahmad Isa Awad,1244\n",
      "Tunisia:  Khalid Islambouli,3262;Hassan Rouhani,1344;Anwar Sadat,3306;Abdul Rahman,31;Nikki Healy,2686\n",
      "Tunisia:  Maktab Al Jawazat,992;Wizarat Al Kharijiyah,2548;Zain El Abidine,1534;El Abidine Ben Ali,259;El Abidine Ben Ali,551;El Abidine Ben Ali,1939;Ben Ali,259;Ben Ali,464;Ben Ali,551;Ben Ali,1939\n",
      "Tunisia:  Baji Kaid Essebsi,197;Baji Kaid Essebsi,565;Essebsi Kanzler,2887;Kaid Essebsi,197;Kaid Essebsi,565;Kaid Essebsi,1729\n"
     ]
    }
   ],
   "source": [
    "for row in range(0, nb_event):\n",
    "    if not isinstance(tunisia_2018['V2ENHANCEDLOCATIONS'][row], float):\n",
    "        #print(\"?Nan\")\n",
    "        if 'Tunisia' in tunisia_2018['V2ENHANCEDLOCATIONS'][row]:\n",
    "            print(\"Tunisia: \", tunisia_2018['V2ENHANCEDPERSONS'][row])"
   ]
  },
  {
   "cell_type": "code",
   "execution_count": null,
   "metadata": {},
   "outputs": [],
   "source": []
  }
 ],
 "metadata": {
  "kernelspec": {
   "display_name": "Python 3",
   "language": "python",
   "name": "python3"
  },
  "language_info": {
   "codemirror_mode": {
    "name": "ipython",
    "version": 3
   },
   "file_extension": ".py",
   "mimetype": "text/x-python",
   "name": "python",
   "nbconvert_exporter": "python",
   "pygments_lexer": "ipython3",
   "version": "3.6.6"
  }
 },
 "nbformat": 4,
 "nbformat_minor": 2
}
