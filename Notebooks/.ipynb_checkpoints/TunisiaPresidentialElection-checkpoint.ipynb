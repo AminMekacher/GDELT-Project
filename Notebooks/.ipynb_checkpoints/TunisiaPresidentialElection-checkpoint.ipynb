{
 "cells": [
  {
   "cell_type": "code",
   "execution_count": 5,
   "metadata": {},
   "outputs": [],
   "source": [
    "import pandas as pd\n",
    "import numpy as np\n",
    "\n",
    "import matplotlib.pyplot as plt\n",
    "import networkx as nx\n",
    "\n",
    "import pycountry"
   ]
  },
  {
   "cell_type": "markdown",
   "metadata": {},
   "source": [
    "**Goal of this notebook: study the presence of the media and their coverage of the events happening in Tunisia, during the presidential elections which happened in 2014**"
   ]
  },
  {
   "cell_type": "code",
   "execution_count": 6,
   "metadata": {},
   "outputs": [],
   "source": [
    "tunisia_actor1 = pd.read_csv('../TunisiaActor1.csv', sep = ',', decimal = '.')\n",
    "tunisia_actor2 = pd.read_csv('../TunisiaActor2.csv', sep = ',', decimal = '.')\n",
    "\n",
    "tunisia_actor_tot = pd.concat([tunisia_actor1, tunisia_actor2], axis=0)\n",
    "tunisia_actor_tot.reset_index(inplace=True)\n",
    "\n",
    "nodes1 = tunisia_actor1['SOURCEURL'].size\n",
    "nodes2 = tunisia_actor2['SOURCEURL'].size\n",
    "nodes_tot = tunisia_actor_tot['SOURCEURL'].size"
   ]
  },
  {
   "cell_type": "code",
   "execution_count": 7,
   "metadata": {},
   "outputs": [
    {
     "data": {
      "text/plain": [
       "array([ 111,  110,   55,  112,   51,   42,   20,   10,  160,   43,  173,\n",
       "        193,  114,   90,   17,  120,  841,   12,  180,   14,  190,   13,\n",
       "         80,  130,  831,   46,   36,  138,  172,  141,   40,  192,   73,\n",
       "        331,   60,   70,  874,   23,  128,   71,   30,   54,   50,   84,\n",
       "         16, 1721,  833,  181,   57,  194, 1822,  150,  140,  186,  311,\n",
       "         72,   64,  871, 1821,   32,   22, 1124,   15,  353,   52,  175,\n",
       "         61,   18,  125,   31,  164,  153,  154,   37,   11,  241,   33,\n",
       "        100,   35,   41,  233,  161, 1823,   62,  145, 1831,  814,  131,\n",
       "         83,   44,   26, 1123,  332,   75,  170,   82,  333, 1044,   25,\n",
       "         45,  113,  244, 1711,  234,  195, 1053,   53,  127,   19,  184,\n",
       "        174,  163,  182,  139, 1722,   91,  143,  191,  162,  152,  122,\n",
       "        203, 1723,   81,   63,  133,   56,  144,  183,  134])"
      ]
     },
     "execution_count": 7,
     "metadata": {},
     "output_type": "execute_result"
    }
   ],
   "source": [
    "# What are the main events happening during this time span?\n",
    "tunisia_actor_tot['EventCode'].unique()"
   ]
  },
  {
   "cell_type": "code",
   "execution_count": 8,
   "metadata": {},
   "outputs": [
    {
     "data": {
      "text/plain": [
       "array([[<matplotlib.axes._subplots.AxesSubplot object at 0xa23cdb1d0>]],\n",
       "      dtype=object)"
      ]
     },
     "execution_count": 8,
     "metadata": {},
     "output_type": "execute_result"
    },
    {
     "data": {
      "image/png": "[encoded data removed]",
      "text/plain": [
       "<Figure size 432x288 with 1 Axes>"
      ]
     },
     "metadata": {},
     "output_type": "display_data"
    }
   ],
   "source": [
    "nb_bins = tunisia_actor_tot['EventCode'].unique().size\n",
    "tunisia_actor_tot.hist(bins=nb_bins, column='EventCode')"
   ]
  },
  {
   "cell_type": "code",
   "execution_count": null,
   "metadata": {},
   "outputs": [],
   "source": []
  }
 ],
 "metadata": {
  "kernelspec": {
   "display_name": "Python 3",
   "language": "python",
   "name": "python3"
  },
  "language_info": {
   "codemirror_mode": {
    "name": "ipython",
    "version": 3
   },
   "file_extension": ".py",
   "mimetype": "text/x-python",
   "name": "python",
   "nbconvert_exporter": "python",
   "pygments_lexer": "ipython3",
   "version": "3.6.6"
  }
 },
 "nbformat": 4,
 "nbformat_minor": 2
}
