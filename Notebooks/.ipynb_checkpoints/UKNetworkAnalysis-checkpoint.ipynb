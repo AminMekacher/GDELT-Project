{
 "cells": [
  {
   "cell_type": "code",
   "execution_count": 2,
   "metadata": {},
   "outputs": [],
   "source": [
    "import pandas as pd\n",
    "import numpy as np\n",
    "\n",
    "import matplotlib.pyplot as plt\n",
    "import networkx as nx\n",
    "from community import community_louvain\n",
    "\n",
    "import pycountry\n",
    "import seaborn as sns\n",
    "\n",
    "import collections\n",
    "import jellyfish\n",
    "\n",
    "import bs4 as bs  \n",
    "import urllib.request  \n",
    "import re  \n",
    "import nltk\n",
    "\n",
    "#from py_translator import Translator\n",
    "from googletrans import Translator\n",
    "from gensim.models import Word2Vec\n",
    "\n",
    "# Importing the notebook with all the methods definition\n",
    "import importlib\n",
    "import GKG"
   ]
  },
  {
   "cell_type": "code",
   "execution_count": 3,
   "metadata": {},
   "outputs": [],
   "source": [
    "uk_actor = pd.read_csv('../CSV Files/uk_actors.csv', sep='\\t', delimiter='\\t', decimal = '.', error_bad_lines=False, \n",
    "                                  engine='c', encoding='latin-1')"
   ]
  },
  {
   "cell_type": "code",
   "execution_count": 5,
   "metadata": {},
   "outputs": [],
   "source": [
    "# Extraction of the themes mentioned in the Tunisia Actor dataframe\n",
    "theme_list = GKG.theme_list_extraction(uk_actor)"
   ]
  },
  {
   "cell_type": "markdown",
   "metadata": {},
   "source": [
    "Goal: create a graph with each mentioned actor connected between each other if they are named in the same articles"
   ]
  },
  {
   "cell_type": "code",
   "execution_count": 7,
   "metadata": {},
   "outputs": [
    {
     "ename": "KeyboardInterrupt",
     "evalue": "",
     "output_type": "error",
     "traceback": [
      "\u001b[0;31m---------------------------------------------------------------------------\u001b[0m",
      "\u001b[0;31mKeyboardInterrupt\u001b[0m                         Traceback (most recent call last)",
      "\u001b[0;32m<ipython-input-7-a917357b02b3>\u001b[0m in \u001b[0;36m<module>\u001b[0;34m()\u001b[0m\n\u001b[1;32m      1\u001b[0m \u001b[0;31m# Actor network creation\u001b[0m\u001b[0;34m\u001b[0m\u001b[0;34m\u001b[0m\u001b[0m\n\u001b[1;32m      2\u001b[0m \u001b[0mG_actor\u001b[0m \u001b[0;34m=\u001b[0m \u001b[0mnx\u001b[0m\u001b[0;34m.\u001b[0m\u001b[0mGraph\u001b[0m\u001b[0;34m(\u001b[0m\u001b[0;34m)\u001b[0m\u001b[0;34m\u001b[0m\u001b[0m\n\u001b[0;32m----> 3\u001b[0;31m \u001b[0mGKG\u001b[0m\u001b[0;34m.\u001b[0m\u001b[0msocial_graph_creation\u001b[0m\u001b[0;34m(\u001b[0m\u001b[0mG_actor\u001b[0m\u001b[0;34m,\u001b[0m \u001b[0muk_actor\u001b[0m\u001b[0;34m)\u001b[0m\u001b[0;34m\u001b[0m\u001b[0m\n\u001b[0m\u001b[1;32m      4\u001b[0m \u001b[0;34m\u001b[0m\u001b[0m\n\u001b[1;32m      5\u001b[0m \u001b[0mlist_actor\u001b[0m \u001b[0;34m=\u001b[0m \u001b[0mlist\u001b[0m\u001b[0;34m(\u001b[0m\u001b[0mG_actor\u001b[0m\u001b[0;34m.\u001b[0m\u001b[0mnodes\u001b[0m\u001b[0;34m)\u001b[0m\u001b[0;34m\u001b[0m\u001b[0m\n",
      "\u001b[0;32m~/Documents/EPFL Master/MA2/GDELT Project/GDELT-Project/Notebooks/GKG.py\u001b[0m in \u001b[0;36msocial_graph_creation\u001b[0;34m(G, dataframe)\u001b[0m\n\u001b[1;32m     36\u001b[0m                     \u001b[0;32mif\u001b[0m \u001b[0mactor_tot_list\u001b[0m\u001b[0;34m:\u001b[0m\u001b[0;34m\u001b[0m\u001b[0m\n\u001b[1;32m     37\u001b[0m                         similarity_max = np.max([jellyfish.jaro_winkler(actor_temp, actor2) for \n\u001b[0;32m---> 38\u001b[0;31m                                                  actor2 in actor_tot_list])\n\u001b[0m\u001b[1;32m     39\u001b[0m                         index_max = np.argmax([jellyfish.jaro_winkler(actor_temp, actor2) for \n\u001b[1;32m     40\u001b[0m                                                   actor2 in actor_tot_list])\n",
      "\u001b[0;32m~/Documents/EPFL Master/MA2/GDELT Project/GDELT-Project/Notebooks/GKG.py\u001b[0m in \u001b[0;36m<listcomp>\u001b[0;34m(.0)\u001b[0m\n\u001b[1;32m     36\u001b[0m                     \u001b[0;32mif\u001b[0m \u001b[0mactor_tot_list\u001b[0m\u001b[0;34m:\u001b[0m\u001b[0;34m\u001b[0m\u001b[0m\n\u001b[1;32m     37\u001b[0m                         similarity_max = np.max([jellyfish.jaro_winkler(actor_temp, actor2) for \n\u001b[0;32m---> 38\u001b[0;31m                                                  actor2 in actor_tot_list])\n\u001b[0m\u001b[1;32m     39\u001b[0m                         index_max = np.argmax([jellyfish.jaro_winkler(actor_temp, actor2) for \n\u001b[1;32m     40\u001b[0m                                                   actor2 in actor_tot_list])\n",
      "\u001b[0;31mKeyboardInterrupt\u001b[0m: "
     ]
    }
   ],
   "source": [
    "# Actor network creation\n",
    "G_actor = nx.Graph()\n",
    "GKG.social_graph_creation(G_actor, uk_actor)\n",
    "\n",
    "list_actor = list(G_actor.nodes)\n",
    "nodes_actor = len(list(G_actor.nodes))\n",
    "edges_actor = len(list(G_actor.edges))\n",
    "print(\"--- UK Actor ---\")\n",
    "print(\"A total of %d actors have been detected\" % nodes_actor)\n",
    "print(\"A total of %d edges have been drawn\" % edges_actor)\n",
    "\n",
    "# Adding attribute to the actors of interest\n"
   ]
  },
  {
   "cell_type": "code",
   "execution_count": 8,
   "metadata": {},
   "outputs": [],
   "source": [
    "# Computation of the page rank for each actor. This value is then assigned as an attribute\n",
    "\n",
    "pagerank_actor = nx.algorithms.link_analysis.pagerank_alg.pagerank(G_actor)\n",
    "        \n",
    "for actor in list(G_actor.nodes):\n",
    "    G_actor.node[actor]['pageRank'] = float(pagerank_actor[actor])"
   ]
  },
  {
   "cell_type": "code",
   "execution_count": 9,
   "metadata": {},
   "outputs": [],
   "source": [
    "# By using the PageRank attribute, we can extract the 10 most influential actors in the network\n",
    "\n",
    "actor_dict = dict(G_actor.nodes)\n",
    "sorted_actor_dict = dict(sorted(actor_dict.items(), key = lambda x: x[1]['pageRank'], reverse=True))\n",
    "\n",
    "topk_actor = GKG.topk_actor_extraction(sorted_actor_dict, k=10)"
   ]
  },
  {
   "cell_type": "code",
   "execution_count": 10,
   "metadata": {},
   "outputs": [],
   "source": [
    "# Study of the cliques in the actor social network\n",
    "\n",
    "partition = community_louvain.best_partition(G_actor)\n",
    "for node_actor in list(G_actor.nodes):\n",
    "    G_actor.node[node_actor]['community'] = partition[node_actor]\n",
    "\n",
    "filepath_actor = '../Gephi Files/uk_actor.gexf'\n",
    "nx.write_gexf(G_actor, filepath_actor, version=\"1.2draft\")"
   ]
  }
 ],
 "metadata": {
  "kernelspec": {
   "display_name": "Python 3",
   "language": "python",
   "name": "python3"
  },
  "language_info": {
   "codemirror_mode": {
    "name": "ipython",
    "version": 3
   },
   "file_extension": ".py",
   "mimetype": "text/x-python",
   "name": "python",
   "nbconvert_exporter": "python",
   "pygments_lexer": "ipython3",
   "version": "3.6.6"
  }
 },
 "nbformat": 4,
 "nbformat_minor": 2
}
