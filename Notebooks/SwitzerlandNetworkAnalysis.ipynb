{
 "cells": [
  {
   "cell_type": "code",
   "execution_count": 1,
   "metadata": {},
   "outputs": [],
   "source": [
    "import pandas as pd\n",
    "import numpy as np\n",
    "\n",
    "import matplotlib.pyplot as plt\n",
    "import networkx as nx\n",
    "from community import community_louvain\n",
    "\n",
    "import pycountry\n",
    "import seaborn as sns\n",
    "\n",
    "import collections\n",
    "import jellyfish\n",
    "\n",
    "import bs4 as bs  \n",
    "import urllib.request  \n",
    "import re  \n",
    "import nltk\n",
    "\n",
    "#from py_translator import Translator\n",
    "from googletrans import Translator\n",
    "from gensim.models import Word2Vec\n",
    "\n",
    "# Importing the notebook with all the methods definition\n",
    "import importlib\n",
    "import GKG\n",
    "\n",
    "import copy\n",
    "import simplejson as json"
   ]
  },
  {
   "cell_type": "code",
   "execution_count": 2,
   "metadata": {},
   "outputs": [],
   "source": [
    "switzerland_news = pd.read_csv('../CSV Files/switzerland_actors.csv', sep='\\t', delimiter='\\t', decimal = '.', error_bad_lines=False, \n",
    "                                  engine='c', encoding='latin-1')"
   ]
  },
  {
   "cell_type": "code",
   "execution_count": 9,
   "metadata": {},
   "outputs": [
    {
     "data": {
      "text/plain": [
       "(20190407120000.0, 20190509233000.0)"
      ]
     },
     "execution_count": 9,
     "metadata": {},
     "output_type": "execute_result"
    }
   ],
   "source": [
    "dates = list(switzerland_news['V2.1DATE'])\n",
    "np.min(dates), np.max(dates)"
   ]
  },
  {
   "cell_type": "code",
   "execution_count": 3,
   "metadata": {},
   "outputs": [],
   "source": [
    "# Extraction of the themes mentioned in the Tunisia Actor dataframe\n",
    "theme_list = GKG.theme_list_extraction(switzerland_news)"
   ]
  },
  {
   "cell_type": "code",
   "execution_count": 4,
   "metadata": {},
   "outputs": [
    {
     "name": "stdout",
     "output_type": "stream",
     "text": [
      "Num:  100889\n"
     ]
    }
   ],
   "source": [
    "tf_total, idf_total, tf_idf_total = GKG.tf_idf_computation(dataframe=switzerland_news, themes_of_interest=theme_list)"
   ]
  },
  {
   "cell_type": "code",
   "execution_count": null,
   "metadata": {},
   "outputs": [],
   "source": [
    "# Cleaning the idf dictionary to keep only the most common themes in the news\n",
    "idf_total_clean = pd.DataFrame(columns=['theme'])\n",
    "count = 0\n",
    "for key, value in idf_total.items():\n",
    "    if value > 300:\n",
    "        for count_theme in range(0, value):\n",
    "            idf_total_clean.loc[count]= key\n",
    "            count += 1\n",
    "            \n",
    "descending_order = idf_total_clean['theme'].value_counts().sort_values(ascending=False).index\n",
    "\n",
    "plt.figure(figsize=(8,9))\n",
    "g = sns.countplot(y=idf_total_clean['theme'], order=descending_order)\n",
    "g.set_ylabel('Themes')\n",
    "g.set_title('Occurrences of themes in the Switzerland GDELT Dataframe')\n",
    "plt.show()"
   ]
  },
  {
   "cell_type": "code",
   "execution_count": 5,
   "metadata": {},
   "outputs": [
    {
     "name": "stdout",
     "output_type": "stream",
     "text": [
      "--- Switzerland News ---\n",
      "A total of 7311 actors have been detected\n",
      "A total of 34271 edges have been drawn\n"
     ]
    }
   ],
   "source": [
    "# Actor network creation\n",
    "G_actor = nx.Graph()\n",
    "GKG.social_graph_creation(G_actor, switzerland_news)\n",
    "\n",
    "list_actor = list(G_actor.nodes)\n",
    "nodes_actor = len(list(G_actor.nodes))\n",
    "edges_actor = len(list(G_actor.edges))\n",
    "print(\"--- Switzerland News ---\")\n",
    "print(\"A total of %d actors have been detected\" % nodes_actor)\n",
    "print(\"A total of %d edges have been drawn\" % edges_actor)\n"
   ]
  },
  {
   "cell_type": "code",
   "execution_count": 6,
   "metadata": {},
   "outputs": [
    {
     "name": "stderr",
     "output_type": "stream",
     "text": [
      "/Users/aminmekacher/miniconda3/envs/gdelt_project/lib/python3.6/site-packages/scipy/stats/stats.py:1713: FutureWarning: Using a non-tuple sequence for multidimensional indexing is deprecated; use `arr[tuple(seq)]` instead of `arr[seq]`. In the future this will be interpreted as an array index, `arr[np.array(seq)]`, which will result either in an error or a different result.\n",
      "  return np.add.reduce(sorted[indexer] * weights, axis=axis) / sumval\n"
     ]
    },
    {
     "data": {
      "text/plain": [
       "Text(0.5, 1.0, 'Distribution of the edge weight for the Swiss actor network')"
      ]
     },
     "execution_count": 6,
     "metadata": {},
     "output_type": "execute_result"
    },
    {
     "data": {
      "image/png": "[encoded data removed]",
      "text/plain": [
       "<Figure size 432x288 with 1 Axes>"
      ]
     },
     "metadata": {},
     "output_type": "display_data"
    }
   ],
   "source": [
    "# Display of a histogram showing the distribution of the edge weight in the actor graph\n",
    "\n",
    "edges_weight = nx.get_edge_attributes(G_actor, 'weight')\n",
    "weight_list = []\n",
    "\n",
    "for actor_edge in G_actor.edges:\n",
    "    weight_list.append(edges_weight[actor_edge])\n",
    "\n",
    "sns.distplot(weight_list, bins=100)\n",
    "plt.ylim(0, 0.5)\n",
    "plt.xlim(0.4, 0.6)\n",
    "plt.title(\"Distribution of the edge weight for the Swiss actor network\")"
   ]
  },
  {
   "cell_type": "code",
   "execution_count": 7,
   "metadata": {},
   "outputs": [
    {
     "name": "stdout",
     "output_type": "stream",
     "text": [
      "Removed edge:  34158\n",
      "Removed nodes:  7172\n",
      "Removed edge:  32989\n",
      "Removed nodes:  6144\n"
     ]
    }
   ],
   "source": [
    "# Definition of an actor network with weak edges (weight < 0.72) removed\n",
    "\n",
    "threshold_high = 1.5\n",
    "G_actor_threshold_high = copy.deepcopy(G_actor)\n",
    "G_actor_threshold_high = GKG.network_edge_filtering(graph=G_actor_threshold_high, threshold=threshold_high)\n",
    "\n",
    "threshold_low = 0.45\n",
    "G_actor_threshold_low = copy.deepcopy(G_actor)\n",
    "G_actor_threshold_low = GKG.network_edge_filtering(graph=G_actor_threshold_low, threshold=threshold_low)"
   ]
  },
  {
   "cell_type": "code",
   "execution_count": 8,
   "metadata": {},
   "outputs": [
    {
     "data": {
      "text/plain": [
       "(139, 1167)"
      ]
     },
     "execution_count": 8,
     "metadata": {},
     "output_type": "execute_result"
    }
   ],
   "source": [
    "len(list(G_actor_threshold_high.nodes())), len(list(G_actor_threshold_low.nodes()))"
   ]
  },
  {
   "cell_type": "code",
   "execution_count": 9,
   "metadata": {},
   "outputs": [],
   "source": [
    "# Computation of the page rank for each actor. This value is then assigned as an attribute\n",
    "\n",
    "pagerank_actor = nx.algorithms.link_analysis.pagerank_alg.pagerank(G_actor)\n",
    "        \n",
    "for actor in list(G_actor.nodes):\n",
    "    G_actor.node[actor]['pageRank'] = float(pagerank_actor[actor])\n",
    "\n",
    "# High Threshold\n",
    "\n",
    "pagerank_actor_high = nx.algorithms.link_analysis.pagerank_alg.pagerank(G_actor_threshold_high)\n",
    "        \n",
    "for actor in list(G_actor_threshold_high.nodes):\n",
    "    G_actor_threshold_high.node[actor]['pageRank'] = float(pagerank_actor_high[actor])\n",
    "\n",
    "# Low Threshold\n",
    "\n",
    "pagerank_actor_low = nx.algorithms.link_analysis.pagerank_alg.pagerank(G_actor_threshold_low)\n",
    "        \n",
    "for actor in list(G_actor_threshold_low.nodes):\n",
    "    G_actor_threshold_low.node[actor]['pageRank'] = float(pagerank_actor_low[actor])"
   ]
  },
  {
   "cell_type": "code",
   "execution_count": 10,
   "metadata": {},
   "outputs": [],
   "source": [
    "# By using the PageRank attribute, we can extract the 10 most influential actors in the network\n",
    "\n",
    "actor_dict = dict(G_actor.nodes)\n",
    "sorted_actor_dict = dict(sorted(actor_dict.items(), key = lambda x: x[1]['pageRank'], reverse=True))\n",
    "\n",
    "topk_actor = GKG.topk_actor_extraction(sorted_actor_dict, k=10)\n",
    "\n",
    "# High Threshold\n",
    "\n",
    "actor_dict_high = dict(G_actor_threshold_high.nodes)\n",
    "sorted_actor_dict_high = dict(sorted(actor_dict_high.items(), key = lambda x: x[1]['pageRank'], reverse=True))\n",
    "\n",
    "topk_actor_high = GKG.topk_actor_extraction(sorted_actor_dict_high, k=10)\n",
    "\n",
    "# Low Threshold\n",
    "\n",
    "actor_dict_low = dict(G_actor_threshold_low.nodes)\n",
    "sorted_actor_dict_low = dict(sorted(actor_dict_low.items(), key = lambda x: x[1]['pageRank'], reverse=True))\n",
    "\n",
    "topk_actor_low = GKG.topk_actor_extraction(sorted_actor_dict_low, k=10)"
   ]
  },
  {
   "cell_type": "code",
   "execution_count": 11,
   "metadata": {},
   "outputs": [],
   "source": [
    "# Study of the cliques in the actor social network\n",
    "\n",
    "partition = community_louvain.best_partition(G_actor)\n",
    "for node_actor in list(G_actor.nodes):\n",
    "    G_actor.node[node_actor]['community'] = partition[node_actor]\n",
    "\n",
    "filepath_actor = '../Gephi Files/switzerland_news.gexf'\n",
    "nx.write_gexf(G_actor, filepath_actor, version=\"1.2draft\")\n",
    "\n",
    "# High threshold\n",
    "\n",
    "partition_high = community_louvain.best_partition(G_actor_threshold_high)\n",
    "for node_actor in list(G_actor_threshold_high.nodes):\n",
    "    G_actor_threshold_high.node[node_actor]['community'] = partition_high[node_actor]\n",
    "\n",
    "filepath_actor_high = '../Gephi Files/switzerland_threshold_high.gexf'\n",
    "nx.write_gexf(G_actor_threshold_high, filepath_actor_high, version=\"1.2draft\")\n",
    "\n",
    "# Low threshold\n",
    "\n",
    "partition_low = community_louvain.best_partition(G_actor_threshold_low)\n",
    "for node_actor in list(G_actor_threshold_low.nodes):\n",
    "    G_actor_threshold_low.node[node_actor]['community'] = partition_low[node_actor]\n",
    "\n",
    "filepath_actor_low = '../Gephi Files/switzerland_threshold_low.gexf'\n",
    "nx.write_gexf(G_actor_threshold_low, filepath_actor_low, version=\"1.2draft\")"
   ]
  },
  {
   "cell_type": "code",
   "execution_count": 41,
   "metadata": {},
   "outputs": [],
   "source": [
    "# Save the tfidf dictionary in an external file\n",
    "\n",
    "import simplejson as json\n",
    "\n",
    "json_tfidf = json.dumps(tf_idf_total)\n",
    "f = open(\"../JSON_files/switzerland_tfidf.json\",\"w\")\n",
    "f.write(json_tfidf)\n",
    "f.close()"
   ]
  },
  {
   "cell_type": "code",
   "execution_count": 4,
   "metadata": {},
   "outputs": [],
   "source": [
    "with open('../JSON_files/switzerland_tfidf.json', 'r') as f:\n",
    "    distros_dict = json.load(f)"
   ]
  },
  {
   "cell_type": "code",
   "execution_count": 14,
   "metadata": {},
   "outputs": [],
   "source": [
    "GKG.save_to_json(G=G_actor_threshold_high, fname='../JSON_files/switzerland_news_threshold_high')\n",
    "GKG.save_to_json(G=G_actor_threshold_low, fname='../JSON_files/switzerland_news_threshold_low')\n",
    "GKG.save_to_json(G=G_actor, fname='../JSON_files/switzerland_news')"
   ]
  },
  {
   "cell_type": "code",
   "execution_count": 5,
   "metadata": {},
   "outputs": [],
   "source": [
    "G_actor = GKG.load_json(fname='../JSON_files/switzerland_news_threshold_low')\n",
    "list_actor = list(G_actor.nodes)\n",
    "tf_idf_total = distros_dict"
   ]
  },
  {
   "cell_type": "code",
   "execution_count": 6,
   "metadata": {},
   "outputs": [
    {
     "data": {
      "text/plain": [
       "<module 'GKG' from '/Users/aminmekacher/Documents/EPFL Master/MA2/GDELT Project/GDELT-Project/Notebooks/GKG.py'>"
      ]
     },
     "execution_count": 6,
     "metadata": {},
     "output_type": "execute_result"
    }
   ],
   "source": [
    "importlib.reload(GKG)"
   ]
  },
  {
   "cell_type": "code",
   "execution_count": 7,
   "metadata": {},
   "outputs": [
    {
     "ename": "NameError",
     "evalue": "name 'nodes_actor' is not defined",
     "output_type": "error",
     "traceback": [
      "\u001b[0;31m---------------------------------------------------------------------------\u001b[0m",
      "\u001b[0;31mNameError\u001b[0m                                 Traceback (most recent call last)",
      "\u001b[0;32m<ipython-input-7-673f2af76849>\u001b[0m in \u001b[0;36m<module>\u001b[0;34m()\u001b[0m\n\u001b[1;32m      6\u001b[0m \u001b[0mGKG\u001b[0m\u001b[0;34m.\u001b[0m\u001b[0mtheme_network_creation\u001b[0m\u001b[0;34m(\u001b[0m\u001b[0mG_themes\u001b[0m\u001b[0;34m,\u001b[0m \u001b[0mlist_actor\u001b[0m\u001b[0;34m,\u001b[0m \u001b[0mswitzerland_news\u001b[0m\u001b[0;34m,\u001b[0m \u001b[0mtheme_list\u001b[0m\u001b[0;34m,\u001b[0m \u001b[0mtf_idf_total\u001b[0m\u001b[0;34m)\u001b[0m\u001b[0;34m\u001b[0m\u001b[0m\n\u001b[1;32m      7\u001b[0m \u001b[0;34m\u001b[0m\u001b[0m\n\u001b[0;32m----> 8\u001b[0;31m \u001b[0mnodes_themes\u001b[0m \u001b[0;34m=\u001b[0m \u001b[0mlen\u001b[0m\u001b[0;34m(\u001b[0m\u001b[0mlist\u001b[0m\u001b[0;34m(\u001b[0m\u001b[0mG_themes\u001b[0m\u001b[0;34m.\u001b[0m\u001b[0mnodes\u001b[0m\u001b[0;34m)\u001b[0m\u001b[0;34m)\u001b[0m \u001b[0;34m-\u001b[0m \u001b[0mnodes_actor\u001b[0m\u001b[0;34m\u001b[0m\u001b[0m\n\u001b[0m\u001b[1;32m      9\u001b[0m \u001b[0medges_themes\u001b[0m \u001b[0;34m=\u001b[0m \u001b[0mlen\u001b[0m\u001b[0;34m(\u001b[0m\u001b[0mlist\u001b[0m\u001b[0;34m(\u001b[0m\u001b[0mG_themes\u001b[0m\u001b[0;34m.\u001b[0m\u001b[0medges\u001b[0m\u001b[0;34m)\u001b[0m\u001b[0;34m)\u001b[0m\u001b[0;34m\u001b[0m\u001b[0m\n\u001b[1;32m     10\u001b[0m \u001b[0mprint\u001b[0m\u001b[0;34m(\u001b[0m\u001b[0;34m\"--- Switzerland Themes ---\"\u001b[0m\u001b[0;34m)\u001b[0m\u001b[0;34m\u001b[0m\u001b[0m\n",
      "\u001b[0;31mNameError\u001b[0m: name 'nodes_actor' is not defined"
     ]
    }
   ],
   "source": [
    "# Theme network generation\n",
    "\n",
    "G_themes = nx.Graph()\n",
    "G_themes = nx.create_empty_copy(G_actor)\n",
    "list_actor = list(G_themes.nodes)\n",
    "GKG.theme_network_creation(G_themes, list_actor, switzerland_news, theme_list, tf_idf_total)\n",
    "\n",
    "nodes_themes = len(list(G_themes.nodes)) - nodes_actor\n",
    "edges_themes = len(list(G_themes.edges))\n",
    "print(\"--- Switzerland Themes ---\")\n",
    "print(\"A total of %d themes have been detected\" % nodes_themes)\n",
    "print(\"A total of %d edges have been drawn\" % edges_themes)\n",
    "\n",
    "for theme in themes_of_interest:\n",
    "    if G_themes.has_node(theme):\n",
    "        G_themes.node[theme]['nodeType'] = 'Theme'\n",
    "    \n",
    "for node in list(G_themes.nodes):\n",
    "    if node not in themes_of_interest:\n",
    "        G_themes.node[node]['nodeType'] = 'Actor'\n",
    "\n",
    "filepath_theme = '../Gephi Files/switzerland_themes.gexf'\n",
    "nx.write_gexf(G_themes, filepath_theme, version='1.2draft')"
   ]
  },
  {
   "cell_type": "code",
   "execution_count": 10,
   "metadata": {},
   "outputs": [
    {
     "ename": "NameError",
     "evalue": "name 'topk_actor' is not defined",
     "output_type": "error",
     "traceback": [
      "\u001b[0;31m---------------------------------------------------------------------------\u001b[0m",
      "\u001b[0;31mNameError\u001b[0m                                 Traceback (most recent call last)",
      "\u001b[0;32m<ipython-input-10-43bb4975700d>\u001b[0m in \u001b[0;36m<module>\u001b[0;34m()\u001b[0m\n\u001b[1;32m      5\u001b[0m \u001b[0;34m\u001b[0m\u001b[0m\n\u001b[1;32m      6\u001b[0m \u001b[0;32mfor\u001b[0m \u001b[0mnode\u001b[0m \u001b[0;32min\u001b[0m \u001b[0mG_influence\u001b[0m\u001b[0;34m.\u001b[0m\u001b[0mnodes\u001b[0m\u001b[0;34m:\u001b[0m\u001b[0;34m\u001b[0m\u001b[0m\n\u001b[0;32m----> 7\u001b[0;31m     \u001b[0mremove_node\u001b[0m \u001b[0;34m=\u001b[0m \u001b[0mnode\u001b[0m \u001b[0;32mnot\u001b[0m \u001b[0;32min\u001b[0m \u001b[0mtheme_list\u001b[0m \u001b[0;32mand\u001b[0m \u001b[0mnode\u001b[0m \u001b[0;32mnot\u001b[0m \u001b[0;32min\u001b[0m \u001b[0mtopk_actor\u001b[0m\u001b[0;34m\u001b[0m\u001b[0m\n\u001b[0m\u001b[1;32m      8\u001b[0m     \u001b[0;31m#print(\"node: \", node, remove_node)\u001b[0m\u001b[0;34m\u001b[0m\u001b[0;34m\u001b[0m\u001b[0m\n\u001b[1;32m      9\u001b[0m \u001b[0;34m\u001b[0m\u001b[0m\n",
      "\u001b[0;31mNameError\u001b[0m: name 'topk_actor' is not defined"
     ]
    }
   ],
   "source": [
    "# Definition of a new graph, with only the most influential actors kept\n",
    "\n",
    "G_influence = G_themes.copy()\n",
    "nodes_to_remove = []\n",
    "\n",
    "for node in G_influence.nodes:\n",
    "    remove_node = node not in theme_list and node not in topk_actor\n",
    "    #print(\"node: \", node, remove_node)\n",
    "    \n",
    "    if remove_node:\n",
    "        nodes_to_remove.append(node)\n",
    "\n",
    "G_influence.remove_nodes_from(nodes_to_remove)\n",
    "G_influence.nodes\n",
    "\n",
    "filepath_influence = '../Gephi Files/switzerland_influence.gexf'\n",
    "nx.write_gexf(G_influence, filepath_influence, version='1.2draft')"
   ]
  },
  {
   "cell_type": "code",
   "execution_count": 14,
   "metadata": {},
   "outputs": [
    {
     "name": "stdout",
     "output_type": "stream",
     "text": [
      "---  Youssef Chahed  ---\n",
      "['GENERAL_GOVERNMENT', 'LEADER', 'ELECTION', 'LEGISLATION', 'ALLIANCE']\n",
      "---  Muhammad Karki  ---\n",
      "['LEADER', 'GENERAL_GOVERNMENT', 'ELECTION', 'RELIGION', 'TERROR']\n",
      "---  El Sebsi  ---\n",
      "['LEADER', 'GENERAL_GOVERNMENT', 'ELECTION', 'BORDER', 'MEDIA_MSM']\n",
      "---  Rashid Ghannouchi  ---\n",
      "['LEADER', 'GENERAL_GOVERNMENT', 'ELECTION', 'ALLIANCE', 'BORDER']\n",
      "---  Baji Kaid Essebsi  ---\n",
      "['LEADER', 'GENERAL_GOVERNMENT', 'ELECTION', 'LEGISLATION', 'BORDER']\n",
      "---  Ben Ali  ---\n",
      "['LEADER', 'GENERAL_GOVERNMENT', 'LEGISLATION', 'TOURISM', 'RELIGION']\n",
      "---  El Abidine Ben Ali  ---\n",
      "['LEADER', 'GENERAL_GOVERNMENT', 'ELECTION', 'LEGISLATION', 'ALLIANCE']\n",
      "---  Hafedh Essebssi  ---\n",
      "['LEADER', 'GENERAL_GOVERNMENT', 'ELECTION', 'LEGISLATION', 'MEDIA_MSM']\n",
      "---  Kanzler Saad Hariri  ---\n",
      "['GENERAL_GOVERNMENT', 'LEADER', 'ELECTION', 'DEMOCRACY', 'RELIGION']\n",
      "---  Kanzler Ali  ---\n",
      "['GENERAL_GOVERNMENT', 'LEADER', 'ELECTION', 'MEDIA_MSM', 'TERROR']\n"
     ]
    }
   ],
   "source": [
    "strongest_themes = {}\n",
    "\n",
    "for node in G_influence.nodes:\n",
    "    if G_influence.node[node]['nodeType'] == 'Actor':\n",
    "    \n",
    "        theme_list = []\n",
    "        weight_list = []\n",
    "\n",
    "        strongest_themes[node] = {}\n",
    "        edges = list(G_influence.edges(node, data=True))\n",
    "\n",
    "        for edge in edges:\n",
    "            theme_edge = edge[1]\n",
    "            weight_edge = edge[2]['weight']\n",
    "\n",
    "            theme_list.append(theme_edge)\n",
    "            weight_list.append(weight_edge)\n",
    "    \n",
    "        index_themes = np.flip(np.argsort(weight_list))[0:5]\n",
    "        \n",
    "        print(\"--- \", node, \" ---\")\n",
    "            \n",
    "        print([theme_list[index] for index in index_themes])"
   ]
  }
 ],
 "metadata": {
  "kernelspec": {
   "display_name": "Python 3",
   "language": "python",
   "name": "python3"
  },
  "language_info": {
   "codemirror_mode": {
    "name": "ipython",
    "version": 3
   },
   "file_extension": ".py",
   "mimetype": "text/x-python",
   "name": "python",
   "nbconvert_exporter": "python",
   "pygments_lexer": "ipython3",
   "version": "3.6.6"
  }
 },
 "nbformat": 4,
 "nbformat_minor": 2
}
