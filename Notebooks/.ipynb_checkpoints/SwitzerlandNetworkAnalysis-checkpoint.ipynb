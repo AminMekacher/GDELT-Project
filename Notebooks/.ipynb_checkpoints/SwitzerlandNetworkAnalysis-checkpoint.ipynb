{
 "cells": [
  {
   "cell_type": "code",
   "execution_count": null,
   "metadata": {},
   "outputs": [],
   "source": [
    "import pandas as pd\n",
    "import numpy as np\n",
    "\n",
    "import matplotlib.pyplot as plt\n",
    "import networkx as nx\n",
    "from community import community_louvain\n",
    "\n",
    "import pycountry\n",
    "import seaborn as sns\n",
    "\n",
    "import collections\n",
    "import jellyfish\n",
    "\n",
    "import bs4 as bs  \n",
    "import urllib.request  \n",
    "import re  \n",
    "import nltk\n",
    "\n",
    "#from py_translator import Translator\n",
    "from googletrans import Translator\n",
    "from gensim.models import Word2Vec\n",
    "\n",
    "# Importing the notebook with all the methods definition\n",
    "import importlib\n",
    "import GKG"
   ]
  }
 ],
 "metadata": {
  "kernelspec": {
   "display_name": "Python 3",
   "language": "python",
   "name": "python3"
  },
  "language_info": {
   "codemirror_mode": {
    "name": "ipython",
    "version": 3
   },
   "file_extension": ".py",
   "mimetype": "text/x-python",
   "name": "python",
   "nbconvert_exporter": "python",
   "pygments_lexer": "ipython3",
   "version": "3.6.6"
  }
 },
 "nbformat": 4,
 "nbformat_minor": 2
}
