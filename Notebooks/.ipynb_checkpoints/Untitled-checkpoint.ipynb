{
 "cells": [
  {
   "cell_type": "code",
   "execution_count": 1,
   "metadata": {},
   "outputs": [],
   "source": [
    "import pandas as pd\n",
    "import numpy as np\n",
    "\n",
    "import matplotlib.pyplot as plt\n",
    "import networkx as nx\n",
    "\n",
    "import pycountry\n",
    "import seaborn as sns\n",
    "import math"
   ]
  },
  {
   "cell_type": "code",
   "execution_count": 2,
   "metadata": {},
   "outputs": [],
   "source": [
    "tunisia_2018 = pd.read_csv('20180925120000.translation.gkg.csv', sep = ',', decimal = '.', encoding='latin-1')"
   ]
  },
  {
   "cell_type": "code",
   "execution_count": 3,
   "metadata": {},
   "outputs": [],
   "source": [
    "tunisia_2018.columns\n",
    "nb_event = tunisia_2018['GKGRECORDID'].size"
   ]
  },
  {
   "cell_type": "code",
   "execution_count": 16,
   "metadata": {},
   "outputs": [
    {
     "name": "stdout",
     "output_type": "stream",
     "text": [
      "Tunisia:  novinky.cz\n",
      "Tunisia:  liberte-algerie.com\n",
      "Tunisia:  consonews.ma\n",
      "Tunisia:  timeturk.com\n",
      "Tunisia:  cumhuriyet.com.tr\n",
      "Tunisia:  sputniknews.com\n",
      "Tunisia:  wam.ae\n",
      "Tunisia:  dostor.org\n",
      "Tunisia:  alnilin.com\n",
      "Tunisia:  eremnews.com\n",
      "Tunisia:  sputniknews.com\n",
      "Tunisia:  dostor.org\n"
     ]
    }
   ],
   "source": [
    "for row in range(0, nb_event):\n",
    "    if not isinstance(tunisia_2018['V2ENHANCEDLOCATIONS'][row], float):\n",
    "        #print(\"?Nan\")\n",
    "        if 'Tunisia' in tunisia_2018['V2ENHANCEDLOCATIONS'][row]:\n",
    "            print(\"Tunisia: \", tunisia_2018['V2SOURCECOMMONNAME'][row])"
   ]
  },
  {
   "cell_type": "code",
   "execution_count": null,
   "metadata": {},
   "outputs": [],
   "source": []
  }
 ],
 "metadata": {
  "kernelspec": {
   "display_name": "Python 3",
   "language": "python",
   "name": "python3"
  },
  "language_info": {
   "codemirror_mode": {
    "name": "ipython",
    "version": 3
   },
   "file_extension": ".py",
   "mimetype": "text/x-python",
   "name": "python",
   "nbconvert_exporter": "python",
   "pygments_lexer": "ipython3",
   "version": "3.6.6"
  }
 },
 "nbformat": 4,
 "nbformat_minor": 2
}
