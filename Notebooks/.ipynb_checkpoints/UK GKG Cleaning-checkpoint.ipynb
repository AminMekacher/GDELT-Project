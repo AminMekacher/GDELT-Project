{
 "cells": [
  {
   "cell_type": "code",
   "execution_count": 1,
   "metadata": {},
   "outputs": [],
   "source": [
    "import pandas as pd\n",
    "import numpy as np\n",
    "import os\n",
    "\n",
    "# Importing the notebook with all the methods definition\n",
    "import GKG"
   ]
  },
  {
   "cell_type": "code",
   "execution_count": 4,
   "metadata": {},
   "outputs": [
    {
     "name": "stdout",
     "output_type": "stream",
     "text": [
      "Score:  0 0\n",
      "Score:  100 2255\n",
      "Score:  200 4471\n",
      "Score:  300 6710\n",
      "Score:  400 8816\n"
     ]
    }
   ],
   "source": [
    "'''\n",
    "Goal of this notebook: process the GKG Database from 09/24/2018 12pm to 09/25/2018 12pm to save in CSV files the news related to\n",
    "- Principal actors in Tunisia: Essebsi, Ben Ali\n",
    "- Main organizations: TBD\n",
    "'''\n",
    "\n",
    "filepath = '../GKG Notebooks/'\n",
    "    \n",
    "column_names = [\"GKGRECORDID\", \"V2.1DATE\", \"V2SOURCECOLLECTIONIDENTIFIER\", \"V2SOURCECOMMONNAME\", \"V2DOCUMENTIDENTIFIER\",\n",
    "                       \"V1COUNTS\", \"V2.1COUNTS\", \"V1THEMES\", \"V2ENHANCEDTHEMES\", \"V1LOCATIONS\", \"V2ENHANCEDLOCATIONS\", \"V1PERSONS\",\n",
    "                       \"V2ENHANCEDPERSONS\", \"V1ORGANIZATIONS\", \"V2ENHANCEDORGANIZATIONS\", \"V1.5TONE\", \"V2.1ENHANCEDDATES\", \"V2GCAM\",\n",
    "                       \"V2.1SHARINGIMAGE\", \"V2.1RELATEDIMAGES\", \"V2.1SOCIALIMAGEEMBEDS\", \"V2.1SOCIALVIDEOEMBEDS\", \"V2.1QUOTATIONS\",\n",
    "                       \"V2.1ALLNAMES\", \"V2.1AMOUNTS\", \"V2.1TRANSLATIONINFO\", \"V2EXTRASXML\"]\n",
    "\n",
    "brexit_actors = [\"Theresa May\", \"Stephen Barclay\", \"Jacob Rees-Mogg\", \"Jeremy Corbyn\", \"Yvette Cooper\",\n",
    "                 \"Michel Barnier\", \"Jean-Claude Juncker\", \"Donald Tusk\", \"Guy Verhofstadt\", \"Angela Merkel\"]\n",
    "\n",
    "uk_actors = pd.DataFrame(columns=column_names)\n",
    "\n",
    "file_score = 0\n",
    "uk_score = 0\n",
    "for filename in os.listdir(filepath):\n",
    "    \n",
    "    if filename.endswith('.csv'):\n",
    "        #print(\"filename: \", filename, file_score)\n",
    "        \n",
    "        if np.mod(file_score, 100) == 0 or file_score == 0:\n",
    "            print(\"Score: \", file_score, uk_score)\n",
    "            \n",
    "        file_score += 1\n",
    "    \n",
    "        path = os.path.join(filepath, filename)\n",
    "\n",
    "        uk_gkg = pd.read_csv(path, sep='\\t', delimiter='\\t', decimal = '.', error_bad_lines=False, \n",
    "                                  header=None, engine='c', encoding='latin-1')\n",
    "        uk_gkg.columns = column_names\n",
    "\n",
    "\n",
    "        for index, row in uk_gkg.iterrows():\n",
    "            if (not isinstance(row['V2ENHANCEDPERSONS'], float) and row['V2ENHANCEDPERSONS'] is not None):\n",
    "                actor_list = row['V2ENHANCEDPERSONS']\n",
    "                if any(actor in actor_list for actor in brexit_actors):\n",
    "                    uk_actors = uk_actors.append(row)   \n",
    "                    uk_score += 1"
   ]
  },
  {
   "cell_type": "code",
   "execution_count": 5,
   "metadata": {},
   "outputs": [],
   "source": [
    "GKG.appendDFToCSV(uk_actors, '../CSV Files/uk_actors.csv')"
   ]
  },
  {
   "cell_type": "code",
   "execution_count": 6,
   "metadata": {},
   "outputs": [],
   "source": [
    "uk_actor = pd.read_csv('../CSV Files/uk_actors.csv', sep='\\t', delimiter='\\t', decimal = '.', error_bad_lines=False, \n",
    "                                  engine='c', encoding='latin-1')"
   ]
  },
  {
   "cell_type": "code",
   "execution_count": 7,
   "metadata": {},
   "outputs": [
    {
     "data": {
      "text/plain": [
       "(20190329000000.0, 20190418234500.0)"
      ]
     },
     "execution_count": 7,
     "metadata": {},
     "output_type": "execute_result"
    }
   ],
   "source": [
    "np.min(list(uk_actor['V2.1DATE'])), np.max(list(uk_actor['V2.1DATE']))"
   ]
  },
  {
   "cell_type": "code",
   "execution_count": null,
   "metadata": {},
   "outputs": [],
   "source": []
  }
 ],
 "metadata": {
  "kernelspec": {
   "display_name": "Python 3",
   "language": "python",
   "name": "python3"
  },
  "language_info": {
   "codemirror_mode": {
    "name": "ipython",
    "version": 3
   },
   "file_extension": ".py",
   "mimetype": "text/x-python",
   "name": "python",
   "nbconvert_exporter": "python",
   "pygments_lexer": "ipython3",
   "version": "3.6.6"
  }
 },
 "nbformat": 4,
 "nbformat_minor": 2
}
