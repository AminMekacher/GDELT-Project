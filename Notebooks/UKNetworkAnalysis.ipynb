{
 "cells": [
  {
   "cell_type": "code",
   "execution_count": 1,
   "metadata": {},
   "outputs": [],
   "source": [
    "import pandas as pd\n",
    "import numpy as np\n",
    "\n",
    "import matplotlib.pyplot as plt\n",
    "import networkx as nx\n",
    "from community import community_louvain\n",
    "\n",
    "import pycountry\n",
    "import seaborn as sns\n",
    "\n",
    "import collections\n",
    "import jellyfish\n",
    "\n",
    "import bs4 as bs  \n",
    "import urllib.request  \n",
    "import re  \n",
    "import nltk\n",
    "\n",
    "#from py_translator import Translator\n",
    "from googletrans import Translator\n",
    "from gensim.models import Word2Vec\n",
    "\n",
    "# Importing the notebook with all the methods definition\n",
    "import importlib\n",
    "import GKG\n",
    "\n",
    "import copy\n",
    "import simplejson as json"
   ]
  },
  {
   "cell_type": "code",
   "execution_count": 2,
   "metadata": {},
   "outputs": [],
   "source": [
    "uk_actor = pd.read_csv('../CSV Files/uk_actors.csv', sep='\\t', delimiter='\\t', decimal = '.', error_bad_lines=False, \n",
    "                                  engine='c', encoding='latin-1')"
   ]
  },
  {
   "cell_type": "code",
   "execution_count": 3,
   "metadata": {},
   "outputs": [
    {
     "data": {
      "text/plain": [
       "(20190329000000.0, 20190418234500.0)"
      ]
     },
     "execution_count": 3,
     "metadata": {},
     "output_type": "execute_result"
    }
   ],
   "source": [
    "dates = list(uk_actor['V2.1DATE'])\n",
    "np.min(dates), np.max(dates)"
   ]
  },
  {
   "cell_type": "code",
   "execution_count": 42,
   "metadata": {},
   "outputs": [
    {
     "data": {
      "text/plain": [
       "<module 'GKG' from '/Users/aminmekacher/Documents/EPFL Master/MA2/GDELT Project/GDELT-Project/Notebooks/GKG.py'>"
      ]
     },
     "execution_count": 42,
     "metadata": {},
     "output_type": "execute_result"
    }
   ],
   "source": [
    "importlib.reload(GKG)"
   ]
  },
  {
   "cell_type": "code",
   "execution_count": 3,
   "metadata": {},
   "outputs": [],
   "source": [
    "# Extraction of the themes mentioned in the Tunisia Actor dataframe\n",
    "theme_list = GKG.theme_list_extraction(uk_actor)"
   ]
  },
  {
   "cell_type": "code",
   "execution_count": 4,
   "metadata": {},
   "outputs": [
    {
     "name": "stdout",
     "output_type": "stream",
     "text": [
      "Num:  68379\n"
     ]
    }
   ],
   "source": [
    "tf_total, idf_total, tf_idf_total = GKG.tf_idf_computation(dataframe=uk_actor, themes_of_interest=theme_list)"
   ]
  },
  {
   "cell_type": "code",
   "execution_count": 43,
   "metadata": {},
   "outputs": [
    {
     "ename": "KeyboardInterrupt",
     "evalue": "",
     "output_type": "error",
     "traceback": [
      "\u001b[0;31m---------------------------------------------------------------------------\u001b[0m",
      "\u001b[0;31mKeyboardInterrupt\u001b[0m                         Traceback (most recent call last)",
      "\u001b[0;32m<ipython-input-43-277d45fd3874>\u001b[0m in \u001b[0;36m<module>\u001b[0;34m()\u001b[0m\n\u001b[0;32m----> 1\u001b[0;31m \u001b[0mtf_total2\u001b[0m\u001b[0;34m,\u001b[0m \u001b[0midf_total2\u001b[0m\u001b[0;34m,\u001b[0m \u001b[0mtf_idf_total2\u001b[0m \u001b[0;34m=\u001b[0m \u001b[0mGKG\u001b[0m\u001b[0;34m.\u001b[0m\u001b[0mtf_idf_computation\u001b[0m\u001b[0;34m(\u001b[0m\u001b[0mdataframe\u001b[0m\u001b[0;34m=\u001b[0m\u001b[0muk_actor\u001b[0m\u001b[0;34m,\u001b[0m \u001b[0mthemes_of_interest\u001b[0m\u001b[0;34m=\u001b[0m\u001b[0mtheme_list\u001b[0m\u001b[0;34m)\u001b[0m\u001b[0;34m\u001b[0m\u001b[0m\n\u001b[0m",
      "\u001b[0;32m~/Documents/EPFL Master/MA2/GDELT Project/GDELT-Project/Notebooks/GKG.py\u001b[0m in \u001b[0;36mtf_idf_computation\u001b[0;34m(dataframe, themes_of_interest)\u001b[0m\n\u001b[1;32m    366\u001b[0m                 \u001b[0;32mfor\u001b[0m \u001b[0mtheme\u001b[0m \u001b[0;32min\u001b[0m \u001b[0mtheme_list\u001b[0m\u001b[0;34m.\u001b[0m\u001b[0msplit\u001b[0m\u001b[0;34m(\u001b[0m\u001b[0;34m';'\u001b[0m\u001b[0;34m)\u001b[0m\u001b[0;34m:\u001b[0m\u001b[0;34m\u001b[0m\u001b[0m\n\u001b[1;32m    367\u001b[0m                     \u001b[0;32mif\u001b[0m \u001b[0mtheme\u001b[0m\u001b[0;34m:\u001b[0m\u001b[0;34m\u001b[0m\u001b[0m\n\u001b[0;32m--> 368\u001b[0;31m                         \u001b[0mtheme_temp\u001b[0m \u001b[0;34m=\u001b[0m \u001b[0mtheme\u001b[0m\u001b[0;34m.\u001b[0m\u001b[0msplit\u001b[0m\u001b[0;34m(\u001b[0m\u001b[0;34m','\u001b[0m\u001b[0;34m)\u001b[0m\u001b[0;34m[\u001b[0m\u001b[0;36m0\u001b[0m\u001b[0;34m]\u001b[0m\u001b[0;34m\u001b[0m\u001b[0m\n\u001b[0m\u001b[1;32m    369\u001b[0m                         \u001b[0;31m#print(\"New themeprev: \", theme_temp)\u001b[0m\u001b[0;34m\u001b[0m\u001b[0;34m\u001b[0m\u001b[0m\n\u001b[1;32m    370\u001b[0m                         \u001b[0;31m# Checking if the theme is the one we are currently looking for\u001b[0m\u001b[0;34m\u001b[0m\u001b[0;34m\u001b[0m\u001b[0m\n",
      "\u001b[0;31mKeyboardInterrupt\u001b[0m: "
     ]
    }
   ],
   "source": [
    "tf_total2, idf_total2, tf_idf_total2 = GKG.tf_idf_computation(dataframe=uk_actor, themes_of_interest=theme_list)"
   ]
  },
  {
   "cell_type": "markdown",
   "metadata": {},
   "source": [
    "Goal: create a graph with each mentioned actor connected between each other if they are named in the same articles"
   ]
  },
  {
   "cell_type": "code",
   "execution_count": 5,
   "metadata": {},
   "outputs": [
    {
     "name": "stdout",
     "output_type": "stream",
     "text": [
      "--- UK Actor ---\n",
      "A total of 9482 actors have been detected\n",
      "A total of 493967 edges have been drawn\n"
     ]
    }
   ],
   "source": [
    "# Actor network creation\n",
    "G_actor = nx.Graph()\n",
    "GKG.social_graph_creation(G_actor, uk_actor)\n",
    "\n",
    "list_actor = list(G_actor.nodes)\n",
    "nodes_actor = len(list(G_actor.nodes))\n",
    "edges_actor = len(list(G_actor.edges))\n",
    "print(\"--- UK Actor ---\")\n",
    "print(\"A total of %d actors have been detected\" % nodes_actor)\n",
    "print(\"A total of %d edges have been drawn\" % edges_actor)"
   ]
  },
  {
   "cell_type": "code",
   "execution_count": 6,
   "metadata": {},
   "outputs": [
    {
     "name": "stderr",
     "output_type": "stream",
     "text": [
      "/Users/aminmekacher/miniconda3/envs/gdelt_project/lib/python3.6/site-packages/scipy/stats/stats.py:1713: FutureWarning: Using a non-tuple sequence for multidimensional indexing is deprecated; use `arr[tuple(seq)]` instead of `arr[seq]`. In the future this will be interpreted as an array index, `arr[np.array(seq)]`, which will result either in an error or a different result.\n",
      "  return np.add.reduce(sorted[indexer] * weights, axis=axis) / sumval\n"
     ]
    },
    {
     "data": {
      "text/plain": [
       "Text(0.5, 1.0, 'Distribution of the edge weight for the UK actor network')"
      ]
     },
     "execution_count": 6,
     "metadata": {},
     "output_type": "execute_result"
    },
    {
     "data": {
      "image/png": "[encoded data removed]",
      "text/plain": [
       "<Figure size 432x288 with 1 Axes>"
      ]
     },
     "metadata": {},
     "output_type": "display_data"
    }
   ],
   "source": [
    "# Display of a histogram showing the distribution of the edge weight in the actor graph\n",
    "\n",
    "edges_weight = nx.get_edge_attributes(G_actor, 'weight')\n",
    "weight_list = []\n",
    "\n",
    "for actor_edge in G_actor.edges:\n",
    "    weight_list.append(edges_weight[actor_edge])\n",
    "\n",
    "sns.distplot(weight_list, bins=100)\n",
    "plt.ylim(0, 0.0002)\n",
    "plt.xlim(10, 15)\n",
    "plt.title(\"Distribution of the edge weight for the UK actor network\")"
   ]
  },
  {
   "cell_type": "code",
   "execution_count": 7,
   "metadata": {},
   "outputs": [
    {
     "name": "stdout",
     "output_type": "stream",
     "text": [
      "Removed edge:  493826\n",
      "Removed nodes:  9405\n",
      "Removed edge:  493297\n",
      "Removed nodes:  9184\n"
     ]
    }
   ],
   "source": [
    "# Definition of an actor network with weak edges (weight < 0.72) removed\n",
    "\n",
    "threshold_high = 11\n",
    "G_actor_threshold_high = copy.deepcopy(G_actor)\n",
    "G_actor_threshold_high = GKG.network_edge_filtering(graph=G_actor_threshold_high, threshold=threshold_high)\n",
    "\n",
    "threshold_low = 3.8\n",
    "G_actor_threshold_low = copy.deepcopy(G_actor)\n",
    "G_actor_threshold_low = GKG.network_edge_filtering(graph=G_actor_threshold_low, threshold=threshold_low)"
   ]
  },
  {
   "cell_type": "code",
   "execution_count": 8,
   "metadata": {},
   "outputs": [],
   "source": [
    "# Computation of the page rank for each actor. This value is then assigned as an attribute\n",
    "\n",
    "pagerank_actor = nx.algorithms.link_analysis.pagerank_alg.pagerank(G_actor)\n",
    "pagerank_high = nx.algorithms.link_analysis.pagerank_alg.pagerank(G_actor_threshold_high)\n",
    "pagerank_low = nx.algorithms.link_analysis.pagerank_alg.pagerank(G_actor_threshold_low)\n",
    "        \n",
    "for actor in list(G_actor.nodes):\n",
    "    G_actor.node[actor]['pageRank'] = float(pagerank_actor[actor])\n",
    "    \n",
    "for actor in list(G_actor_threshold_high.nodes):\n",
    "    G_actor_threshold_high.node[actor]['pageRank'] = float(pagerank_high[actor])\n",
    "    \n",
    "for actor in list(G_actor_threshold_low.nodes):\n",
    "    G_actor_threshold_low.node[actor]['pageRank'] = float(pagerank_low[actor])"
   ]
  },
  {
   "cell_type": "code",
   "execution_count": 10,
   "metadata": {},
   "outputs": [],
   "source": [
    "# By using the PageRank attribute, we can extract the 10 most influential actors in the network\n",
    "\n",
    "# High Threshold\n",
    "\n",
    "actor_dict_high = dict(G_actor_threshold_high.nodes)\n",
    "sorted_actor_dict_high = dict(sorted(actor_dict_high.items(), key = lambda x: x[1]['pageRank'], reverse=True))\n",
    "\n",
    "topk_actor_high = GKG.topk_actor_extraction(sorted_actor_dict_high, k=10)\n",
    "\n",
    "# Low Threshold\n",
    "\n",
    "actor_dict_low = dict(G_actor_threshold_low.nodes)\n",
    "sorted_actor_dict_low = dict(sorted(actor_dict_low.items(), key = lambda x: x[1]['pageRank'], reverse=True))\n",
    "\n",
    "topk_actor_low = GKG.topk_actor_extraction(sorted_actor_dict_low, k=10)"
   ]
  },
  {
   "cell_type": "code",
   "execution_count": 11,
   "metadata": {},
   "outputs": [],
   "source": [
    "# Study of the cliques in the actor social network\n",
    "\n",
    "partition = community_louvain.best_partition(G_actor)\n",
    "for node_actor in list(G_actor.nodes):\n",
    "    G_actor.node[node_actor]['community'] = partition[node_actor]\n",
    "    \n",
    "partition_high = community_louvain.best_partition(G_actor_threshold_high)\n",
    "for node_actor in list(G_actor_threshold_high.nodes):\n",
    "    G_actor_threshold_high.node[node_actor]['community'] = partition_high[node_actor]\n",
    "    \n",
    "partition_low = community_louvain.best_partition(G_actor_threshold_low)\n",
    "for node_actor in list(G_actor_threshold_low.nodes):\n",
    "    G_actor_threshold_low.node[node_actor]['community'] = partition_low[node_actor]\n",
    "\n",
    "filepath_actor = '../Gephi Files/uk_actor.gexf'\n",
    "nx.write_gexf(G_actor, filepath_actor, version=\"1.2draft\")\n",
    "\n",
    "filepath_threshold_low = '../Gephi Files/uk_threshold_low.gexf'\n",
    "nx.write_gexf(G_actor_threshold_low, filepath_threshold_low, version='1.2draft')\n",
    "\n",
    "filepath_threshold_high = '../Gephi Files/uk_threshold_high.gexf'\n",
    "nx.write_gexf(G_actor_threshold_high, filepath_threshold_high, version='1.2draft')"
   ]
  },
  {
   "cell_type": "code",
   "execution_count": 6,
   "metadata": {},
   "outputs": [],
   "source": [
    "# Save the tfidf dictionary in an external file\n",
    "\n",
    "import simplejson as json\n",
    "\n",
    "json_tfidf = json.dumps(tf_idf_total)\n",
    "f = open(\"../JSON_files/uk_tfidf.json\",\"w\")\n",
    "f.write(json_tfidf)\n",
    "f.close()"
   ]
  },
  {
   "cell_type": "code",
   "execution_count": 7,
   "metadata": {},
   "outputs": [],
   "source": [
    "with open('../JSON_files/switzerland_tfidf.json', 'r') as f:\n",
    "    distros_dict = json.load(f)"
   ]
  },
  {
   "cell_type": "code",
   "execution_count": 9,
   "metadata": {},
   "outputs": [],
   "source": [
    "G_actor = GKG.load_json(fname='../JSON_files/uk_actor_threshold_high')\n",
    "list_actor = list(G_actor.nodes)\n",
    "tf_idf_total = distros_dict"
   ]
  },
  {
   "cell_type": "code",
   "execution_count": 28,
   "metadata": {},
   "outputs": [
    {
     "data": {
      "text/plain": [
       "62677"
      ]
     },
     "execution_count": 28,
     "metadata": {},
     "output_type": "execute_result"
    }
   ],
   "source": [
    "len(list(tf_idf_total.keys()))"
   ]
  },
  {
   "cell_type": "code",
   "execution_count": 19,
   "metadata": {},
   "outputs": [
    {
     "data": {
      "text/plain": [
       "<module 'GKG' from '/Users/aminmekacher/Documents/EPFL Master/MA2/GDELT Project/GDELT-Project/Notebooks/GKG.py'>"
      ]
     },
     "execution_count": 19,
     "metadata": {},
     "output_type": "execute_result"
    }
   ],
   "source": [
    "importlib.reload(GKG)"
   ]
  },
  {
   "cell_type": "code",
   "execution_count": 20,
   "metadata": {},
   "outputs": [
    {
     "name": "stdout",
     "output_type": "stream",
     "text": [
      "begin:  Jeremy Corbyn,390 GENERAL_GOVERNMENT,264;GENERAL_GOVERNMENT,548;GENERAL_GOVERNMENT,602;EPU_POLICY_GOVERNMENT,264;EPU_POLICY_GOVERNMENT,548;EPU_POLICY_GOVERNMENT,602;USPEC_UNCERTAINTY1,575;TERROR,652;REBELS,652;WB_2433_CONFLICT_AND_VIOLENCE,652;WB_2451_REBELS_GUERRILLAS_AND_INSURGENTS,652;WB_2432_FRAGILITY_CONFLICT_AND_VIOLENCE,652;WB_2445_NON_STATE_SECURITY_ACTORS,652;CRISISLEX_C07_SAFETY,652;RESIGNATION,440;TAX_FNCACT_LEADER,376; 20190330063000-6\n",
      "Here:  20190330063000-6\n",
      "Theme:  20190330063000-6 GENERAL_GOVERNMENT\n"
     ]
    },
    {
     "ename": "KeyError",
     "evalue": "'20190330063000-6'",
     "output_type": "error",
     "traceback": [
      "\u001b[0;31m---------------------------------------------------------------------------\u001b[0m",
      "\u001b[0;31mKeyError\u001b[0m                                  Traceback (most recent call last)",
      "\u001b[0;32m<ipython-input-20-6e686afa127e>\u001b[0m in \u001b[0;36m<module>\u001b[0;34m()\u001b[0m\n\u001b[1;32m      6\u001b[0m \u001b[0mG_themes_high\u001b[0m \u001b[0;34m=\u001b[0m \u001b[0mnx\u001b[0m\u001b[0;34m.\u001b[0m\u001b[0mcreate_empty_copy\u001b[0m\u001b[0;34m(\u001b[0m\u001b[0mG_actor\u001b[0m\u001b[0;34m)\u001b[0m\u001b[0;34m\u001b[0m\u001b[0m\n\u001b[1;32m      7\u001b[0m \u001b[0mlist_actor_high\u001b[0m \u001b[0;34m=\u001b[0m \u001b[0mlist\u001b[0m\u001b[0;34m(\u001b[0m\u001b[0mG_themes_high\u001b[0m\u001b[0;34m.\u001b[0m\u001b[0mnodes\u001b[0m\u001b[0;34m)\u001b[0m\u001b[0;34m\u001b[0m\u001b[0m\n\u001b[0;32m----> 8\u001b[0;31m \u001b[0mGKG\u001b[0m\u001b[0;34m.\u001b[0m\u001b[0mtheme_network_creation\u001b[0m\u001b[0;34m(\u001b[0m\u001b[0mG_themes_high\u001b[0m\u001b[0;34m,\u001b[0m \u001b[0mlist_actor\u001b[0m\u001b[0;34m,\u001b[0m \u001b[0muk_actor\u001b[0m\u001b[0;34m,\u001b[0m \u001b[0mtheme_list\u001b[0m\u001b[0;34m,\u001b[0m \u001b[0mtf_idf_total\u001b[0m\u001b[0;34m)\u001b[0m\u001b[0;34m\u001b[0m\u001b[0m\n\u001b[0m\u001b[1;32m      9\u001b[0m \u001b[0;34m\u001b[0m\u001b[0m\n\u001b[1;32m     10\u001b[0m \u001b[0mnodes_themes\u001b[0m \u001b[0;34m=\u001b[0m \u001b[0mlen\u001b[0m\u001b[0;34m(\u001b[0m\u001b[0mlist\u001b[0m\u001b[0;34m(\u001b[0m\u001b[0mG_themes_high\u001b[0m\u001b[0;34m.\u001b[0m\u001b[0mnodes\u001b[0m\u001b[0;34m)\u001b[0m\u001b[0;34m)\u001b[0m\u001b[0;34m\u001b[0m\u001b[0m\n",
      "\u001b[0;32m~/Documents/EPFL Master/MA2/GDELT Project/GDELT-Project/Notebooks/GKG.py\u001b[0m in \u001b[0;36mtheme_network_creation\u001b[0;34m(G_themes, list_actor, dataframe, themes_of_interest, tf_idf)\u001b[0m\n\u001b[1;32m    211\u001b[0m                         '''\n\u001b[1;32m    212\u001b[0m                         \u001b[0mprint\u001b[0m\u001b[0;34m(\u001b[0m\u001b[0;34m\"Theme: \"\u001b[0m\u001b[0;34m,\u001b[0m \u001b[0mdoc_id\u001b[0m\u001b[0;34m,\u001b[0m \u001b[0mtheme_temp\u001b[0m\u001b[0;34m)\u001b[0m\u001b[0;34m\u001b[0m\u001b[0m\n\u001b[0;32m--> 213\u001b[0;31m                         \u001b[0mweight_theme\u001b[0m \u001b[0;34m=\u001b[0m \u001b[0mtf_idf\u001b[0m\u001b[0;34m[\u001b[0m\u001b[0mdoc_id\u001b[0m\u001b[0;34m]\u001b[0m\u001b[0;34m[\u001b[0m\u001b[0mtheme_temp\u001b[0m\u001b[0;34m]\u001b[0m\u001b[0;34m\u001b[0m\u001b[0m\n\u001b[0m\u001b[1;32m    214\u001b[0m \u001b[0;34m\u001b[0m\u001b[0m\n\u001b[1;32m    215\u001b[0m                         \u001b[0;32mif\u001b[0m \u001b[0mG_themes\u001b[0m\u001b[0;34m.\u001b[0m\u001b[0mhas_edge\u001b[0m\u001b[0;34m(\u001b[0m\u001b[0mactor_max\u001b[0m\u001b[0;34m,\u001b[0m \u001b[0mtheme_temp\u001b[0m\u001b[0;34m)\u001b[0m\u001b[0;34m:\u001b[0m\u001b[0;34m\u001b[0m\u001b[0m\n",
      "\u001b[0;31mKeyError\u001b[0m: '20190330063000-6'"
     ]
    }
   ],
   "source": [
    "# Theme network generation\n",
    "\n",
    "# High Threshold\n",
    "\n",
    "G_themes_high = nx.Graph()\n",
    "G_themes_high = nx.create_empty_copy(G_actor)\n",
    "list_actor_high = list(G_themes_high.nodes)\n",
    "GKG.theme_network_creation(G_themes_high, list_actor, uk_actor, theme_list, tf_idf_total)\n",
    "\n",
    "nodes_themes = len(list(G_themes_high.nodes))\n",
    "edges_themes = len(list(G_themes_high.edges))\n",
    "print(\"--- UK Themes High---\")\n",
    "print(\"A total of %d themes have been detected\" % nodes_themes)\n",
    "print(\"A total of %d edges have been drawn\" % edges_themes)\n",
    "\n",
    "for theme in theme_list:\n",
    "    if G_themes_high.has_node(theme):\n",
    "        G_themes_high.node[theme]['nodeType'] = 'Theme'\n",
    "    \n",
    "for node in list(G_themes_high.nodes):\n",
    "    if node not in theme_list:\n",
    "        G_themes_high.node[node]['nodeType'] = 'Actor'\n",
    "        \n",
    "filepath_theme_high = '../Gephi Files/uk_themes_high.gexf'\n",
    "nx.write_gexf(G_themes_high, filepath_theme_high, version='1.2draft')"
   ]
  },
  {
   "cell_type": "code",
   "execution_count": null,
   "metadata": {},
   "outputs": [],
   "source": [
    "# Definition of a new graph, with only the most influential actors kept\n",
    "\n",
    "# High Threshold\n",
    "\n",
    "G_influence_high = G_themes_high.copy()\n",
    "nodes_to_remove = []\n",
    "\n",
    "for node in G_influence_high.nodes:\n",
    "    remove_node = node not in theme_list and node not in topk_actor_high\n",
    "    #print(\"node: \", node, remove_node)\n",
    "    \n",
    "    if remove_node:\n",
    "        nodes_to_remove.append(node)\n",
    "\n",
    "G_influence_high.remove_nodes_from(nodes_to_remove)\n",
    "G_influence_high.nodes\n",
    "\n",
    "filepath_influence_high = '../Gephi Files/uk_influence_high.gexf'\n",
    "nx.write_gexf(G_influence_high, filepath_influence_high, version='1.2draft')\n",
    "\n",
    "# Low Threshold\n",
    "\n",
    "G_influence_low = G_themes_low.copy()\n",
    "nodes_to_remove = []\n",
    "\n",
    "for node in G_influence_low.nodes:\n",
    "    remove_node = node not in theme_list and node not in topk_actor_low\n",
    "    #print(\"node: \", node, remove_node)\n",
    "    \n",
    "    if remove_node:\n",
    "        nodes_to_remove.append(node)\n",
    "\n",
    "G_influence_low.remove_nodes_from(nodes_to_remove)\n",
    "G_influence_low.nodes\n",
    "\n",
    "filepath_influence_low = '../Gephi Files/uk_influence_low.gexf'\n",
    "nx.write_gexf(G_influence_low, filepath_influence_low, version='1.2draft')"
   ]
  },
  {
   "cell_type": "code",
   "execution_count": null,
   "metadata": {},
   "outputs": [],
   "source": [
    "# High Threshold\n",
    "\n",
    "strongest_themes = {}\n",
    "\n",
    "print(\"--- High Threshold UK ---\")\n",
    "for node in G_influence_high.nodes:\n",
    "    if G_influence_high.node[node]['nodeType'] == 'Actor':\n",
    "    \n",
    "        theme_list = []\n",
    "        weight_list = []\n",
    "\n",
    "        strongest_themes[node] = {}\n",
    "        edges = list(G_influence_high.edges(node, data=True))\n",
    "\n",
    "        for edge in edges:\n",
    "            theme_edge = edge[1]\n",
    "            weight_edge = edge[2]['weight']\n",
    "\n",
    "            theme_list.append(theme_edge)\n",
    "            weight_list.append(weight_edge)\n",
    "    \n",
    "        index_themes = np.flip(np.argsort(weight_list))[0:5]\n",
    "        \n",
    "        print(\"--- \", node, \" ---\")\n",
    "            \n",
    "        print([theme_list[index] for index in index_themes])\n",
    "       \n",
    "\n",
    "# Low Threshold\n",
    "\n",
    "strongest_themes = {}\n",
    "\n",
    "for node in G_influence_low.nodes:\n",
    "    if G_influence_low.node[node]['nodeType'] == 'Actor':\n",
    "    \n",
    "        theme_list = []\n",
    "        weight_list = []\n",
    "\n",
    "        strongest_themes[node] = {}\n",
    "        edges = list(G_influencelow.edges(node, data=True))\n",
    "\n",
    "        for edge in edges:\n",
    "            theme_edge = edge[1]\n",
    "            weight_edge = edge[2]['weight']\n",
    "\n",
    "            theme_list.append(theme_edge)\n",
    "            weight_list.append(weight_edge)\n",
    "    \n",
    "        index_themes = np.flip(np.argsort(weight_list))[0:5]\n",
    "        \n",
    "        print(\"--- \", node, \" ---\")\n",
    "            \n",
    "        print([theme_list[index] for index in index_themes])"
   ]
  }
 ],
 "metadata": {
  "kernelspec": {
   "display_name": "Python 3",
   "language": "python",
   "name": "python3"
  },
  "language_info": {
   "codemirror_mode": {
    "name": "ipython",
    "version": 3
   },
   "file_extension": ".py",
   "mimetype": "text/x-python",
   "name": "python",
   "nbconvert_exporter": "python",
   "pygments_lexer": "ipython3",
   "version": "3.6.6"
  }
 },
 "nbformat": 4,
 "nbformat_minor": 2
}
