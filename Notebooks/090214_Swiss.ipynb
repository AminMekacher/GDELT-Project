{
 "cells": [
  {
   "cell_type": "code",
   "execution_count": 1,
   "metadata": {},
   "outputs": [],
   "source": [
    "import pandas as pd\n",
    "import numpy as np\n",
    "\n",
    "import matplotlib.pyplot as plt\n",
    "import networkx as nx\n",
    "\n",
    "import pycountry"
   ]
  },
  {
   "cell_type": "code",
   "execution_count": 2,
   "metadata": {},
   "outputs": [],
   "source": [
    "swiss_df = pd.read_csv('../Swiss2_0902_2302.csv',sep = ',',decimal = '.')\n",
    "n_nodes = swiss_df['Year'].size"
   ]
  },
  {
   "cell_type": "code",
   "execution_count": 3,
   "metadata": {},
   "outputs": [
    {
     "data": {
      "text/plain": [
       "array([  42,   20,   40,   46,   51,  100,   36,   43,  112,   31,  130,\n",
       "         57,   10,   50,   60,  120,   80,  110,  842,   37,   12,  164,\n",
       "        874,   84,  173,  231,   61,   14,   41,  190,  356,   90,   30,\n",
       "        193,  172,  111,  841,  128,  114,   75,   18,   70,   33,   64,\n",
       "        233,   71,   13,  161,  181,  831,  160,  113,   16,   11,  192,\n",
       "        833,  353,  243,   44,  134,  154, 1822,  311,  163,  180,   22,\n",
       "       1123,  106,  101,  125,  124,  141,   39, 1056,  170,   45,   27,\n",
       "        139,  871,   26,  873,   55,   73, 1711,  213,  174, 1124,  127,\n",
       "         62,  138,  214, 1712,   53,   85,   17,  241,  182, 1241,  151])"
      ]
     },
     "execution_count": 3,
     "metadata": {},
     "output_type": "execute_result"
    }
   ],
   "source": [
    "swiss_df['EventCode'].unique()"
   ]
  },
  {
   "cell_type": "code",
   "execution_count": 4,
   "metadata": {},
   "outputs": [
    {
     "data": {
      "text/plain": [
       "array([[<matplotlib.axes._subplots.AxesSubplot object at 0x109e3f4a8>]],\n",
       "      dtype=object)"
      ]
     },
     "execution_count": 4,
     "metadata": {},
     "output_type": "execute_result"
    },
    {
     "data": {
      "image/png": "[encoded data removed]",
      "text/plain": [
       "<Figure size 432x288 with 1 Axes>"
      ]
     },
     "metadata": {},
     "output_type": "display_data"
    }
   ],
   "source": [
    "nb_bins = swiss_df['EventCode'].unique().size\n",
    "swiss_df.hist(bins=nb_bins, column='EventCode')"
   ]
  },
  {
   "cell_type": "code",
   "execution_count": 5,
   "metadata": {},
   "outputs": [
    {
     "data": {
      "text/plain": [
       "array([0., 0., 0., 0., 0., 0., 0., 0., 0., 0., 0., 0., 0., 0., 0.])"
      ]
     },
     "execution_count": 5,
     "metadata": {},
     "output_type": "execute_result"
    }
   ],
   "source": [
    "# Plot nodes according to day and event code\n",
    "\n",
    "eventCode = swiss_df['EventCode']\n",
    "day = swiss_df['SQLDATE'] % 100\n",
    "\n",
    "day_range = np.max(day) - np.min(day) + 1\n",
    "day_vector = np.arange(np.min(day), np.max(day) + 1)\n",
    "\n",
    "eventMat = np.zeros((eventCode.size, day_range))\n",
    "eventMat.shape\n",
    "\n",
    "for event, day in zip(eventCode, day):\n",
    "    eventMat[event][day - 9] += 1\n",
    "    \n",
    "    \n",
    "eventMat[300]"
   ]
  },
  {
   "cell_type": "code",
   "execution_count": 6,
   "metadata": {},
   "outputs": [
    {
     "name": "stdout",
     "output_type": "stream",
     "text": [
      "[0. 0. 0. ... 0. 0. 0.]\n"
     ]
    }
   ],
   "source": [
    "print(np.sum(eventMat, axis=1))\n",
    "event_length = eventMat.shape[0]\n",
    "\n",
    "code_df = pd.DataFrame()\n",
    "frequency_df = pd.DataFrame()\n",
    "#df = df.append({'name': 'Zed', 'age': 9, 'height': 2}, ignore_index=True)\n",
    "\n",
    "for i in range(0, event_length):\n",
    "    if np.sum(eventMat, axis=1)[i] > 70:\n",
    "        frequency_df = frequency_df.append({'frequency': eventMat[i]}, ignore_index=True)\n",
    "        code_df = code_df.append({'eventCode': i}, ignore_index=True)\n",
    "        \n",
    "frequency_df = pd.DataFrame(frequency_df['frequency'].values.tolist())\n",
    "code_df = pd.concat([code_df.reset_index(drop=True), frequency_df.reset_index(drop=True)], axis=1)\n",
    "code_df = code_df.set_index('eventCode')\n",
    "code_df.columns=['9', '10', '11', '12', '13', '14', '15', '16', '17', '18', '19',\n",
    "                '20', '21', '22', '23']"
   ]
  },
  {
   "cell_type": "code",
   "execution_count": 7,
   "metadata": {},
   "outputs": [
    {
     "data": {
      "image/png": "[encoded data removed]",
      "text/plain": [
       "<Figure size 842.4x595.44 with 2 Axes>"
      ]
     },
     "metadata": {},
     "output_type": "display_data"
    }
   ],
   "source": [
    "# Plot the number of occurences of each event code for each day\n",
    "\n",
    "#plt.imshow(eventMat[0:30], cmap='hot', interpolation='nearest')\n",
    "#plt.show()\n",
    "import seaborn as sns\n",
    "\n",
    "fig, ax = plt.subplots()\n",
    "# the size of A4 paper\n",
    "fig.set_size_inches(11.7, 8.27)\n",
    "\n",
    "sns.heatmap(code_df, annot=False, fmt=\"g\", cmap='viridis', ax=ax)\n",
    "plt.xlabel(\"Day of the month\")\n",
    "plt.show()"
   ]
  },
  {
   "cell_type": "code",
   "execution_count": 8,
   "metadata": {},
   "outputs": [],
   "source": [
    "# Which countries are involved in these news?\n",
    "\n",
    "pycountry_list = list(pycountry.countries)\n",
    "nb_country = len(pycountry_list)\n",
    "country_list = []\n",
    "\n",
    "for i in range(0, nb_country):\n",
    "    country_list.append(pycountry_list[i].name)\n",
    "    \n",
    "# Country_score is a vector used to compute the number of events triggered by each country following the Swiss votation\n",
    "\n",
    "country_dict = dict.fromkeys(country_list)\n",
    "\n",
    "country_score = np.zeros((nb_country, 1))\n",
    "actor1_name = swiss_df['Actor1Name']\n",
    "actor1_name = actor1_name.dropna()\n",
    "actor1_name = actor1_name.unique()\n",
    "\n",
    "#for i in range(0, len(actor1_name)):\n",
    " #   key = actor1_name[i]\n",
    "  #  print(\"Key: \", key)\n",
    "  #  if key in country_list:\n",
    "   #     country_dict[key] += 1\n",
    "    "
   ]
  },
  {
   "cell_type": "code",
   "execution_count": 9,
   "metadata": {},
   "outputs": [],
   "source": [
    "# Actor1 Dictionary\n",
    "\n",
    "actor1_name\n",
    "actor1_dict = dict.fromkeys(actor1_name)\n",
    "\n",
    "actor1_dict = dict((el,0) for el in actor1_name)\n",
    "\n",
    "for i in range(0, len(actor1_name)):\n",
    "    actor = actor1_name[i]\n",
    "    actor1_dict[actor] += 1"
   ]
  },
  {
   "cell_type": "code",
   "execution_count": 17,
   "metadata": {},
   "outputs": [
    {
     "name": "stderr",
     "output_type": "stream",
     "text": [
      "/Users/aminmekacher/miniconda3/envs/gdelt_project/lib/python3.6/site-packages/scipy/stats/stats.py:1713: FutureWarning: Using a non-tuple sequence for multidimensional indexing is deprecated; use `arr[tuple(seq)]` instead of `arr[seq]`. In the future this will be interpreted as an array index, `arr[np.array(seq)]`, which will result either in an error or a different result.\n",
      "  return np.add.reduce(sorted[indexer] * weights, axis=axis) / sumval\n"
     ]
    },
    {
     "data": {
      "image/png": "[encoded data removed]",
      "text/plain": [
       "<Figure size 432x288 with 1 Axes>"
      ]
     },
     "metadata": {},
     "output_type": "display_data"
    }
   ],
   "source": [
    "# Goldstein Scale analysis using the GoldsteinScale column\n",
    "\n",
    "goldstein_df = swiss_df['GoldsteinScale']\n",
    "np.max(goldstein_df), np.min(goldstein_df), np.mean(goldstein_df)\n",
    "\n",
    "ax = sns.distplot(goldstein_df)"
   ]
  },
  {
   "cell_type": "code",
   "execution_count": 20,
   "metadata": {},
   "outputs": [],
   "source": [
    "# To test the Goldstein scale efficiency, locate the events that are labeled with GoldsteinScale = +- 10\n",
    "\n",
    "goldstein10_df = swiss_df.loc[swiss_df['GoldsteinScale'] == 10]"
   ]
  },
  {
   "cell_type": "code",
   "execution_count": 28,
   "metadata": {},
   "outputs": [
    {
     "data": {
      "text/html": [
       "<div>\n",
       "<style scoped>\n",
       "    .dataframe tbody tr th:only-of-type {\n",
       "        vertical-align: middle;\n",
       "    }\n",
       "\n",
       "    .dataframe tbody tr th {\n",
       "        vertical-align: top;\n",
       "    }\n",
       "\n",
       "    .dataframe thead th {\n",
       "        text-align: right;\n",
       "    }\n",
       "</style>\n",
       "<table border=\"1\" class=\"dataframe\">\n",
       "  <thead>\n",
       "    <tr style=\"text-align: right;\">\n",
       "      <th></th>\n",
       "      <th>GLOBALEVENTID</th>\n",
       "      <th>SQLDATE</th>\n",
       "      <th>MonthYear</th>\n",
       "      <th>Year</th>\n",
       "      <th>FractionDate</th>\n",
       "      <th>Actor1Code</th>\n",
       "      <th>Actor1Name</th>\n",
       "      <th>Actor1CountryCode</th>\n",
       "      <th>Actor1KnownGroupCode</th>\n",
       "      <th>Actor1EthnicCode</th>\n",
       "      <th>...</th>\n",
       "      <th>Actor2Geo_FeatureID</th>\n",
       "      <th>ActionGeo_Type</th>\n",
       "      <th>ActionGeo_FullName</th>\n",
       "      <th>ActionGeo_CountryCode</th>\n",
       "      <th>ActionGeo_ADM1Code</th>\n",
       "      <th>ActionGeo_Lat</th>\n",
       "      <th>ActionGeo_Long</th>\n",
       "      <th>ActionGeo_FeatureID</th>\n",
       "      <th>DATEADDED</th>\n",
       "      <th>SOURCEURL</th>\n",
       "    </tr>\n",
       "  </thead>\n",
       "  <tbody>\n",
       "    <tr>\n",
       "      <th>67</th>\n",
       "      <td>285305066</td>\n",
       "      <td>20140210</td>\n",
       "      <td>201402</td>\n",
       "      <td>2014</td>\n",
       "      <td>2014.1096</td>\n",
       "      <td>NaN</td>\n",
       "      <td>NaN</td>\n",
       "      <td>NaN</td>\n",
       "      <td>NaN</td>\n",
       "      <td>NaN</td>\n",
       "      <td>...</td>\n",
       "      <td>SZ</td>\n",
       "      <td>1</td>\n",
       "      <td>Switzerland</td>\n",
       "      <td>SZ</td>\n",
       "      <td>SZ</td>\n",
       "      <td>47.0000</td>\n",
       "      <td>8.00000</td>\n",
       "      <td>SZ</td>\n",
       "      <td>20140210</td>\n",
       "      <td>http://www.neurope.eu/article/after-swiss-refe...</td>\n",
       "    </tr>\n",
       "    <tr>\n",
       "      <th>801</th>\n",
       "      <td>285923664</td>\n",
       "      <td>20140214</td>\n",
       "      <td>201402</td>\n",
       "      <td>2014</td>\n",
       "      <td>2014.1205</td>\n",
       "      <td>GBR</td>\n",
       "      <td>BRITISH</td>\n",
       "      <td>GBR</td>\n",
       "      <td>NaN</td>\n",
       "      <td>NaN</td>\n",
       "      <td>...</td>\n",
       "      <td>SZ</td>\n",
       "      <td>1</td>\n",
       "      <td>Switzerland</td>\n",
       "      <td>SZ</td>\n",
       "      <td>SZ</td>\n",
       "      <td>47.0000</td>\n",
       "      <td>8.00000</td>\n",
       "      <td>SZ</td>\n",
       "      <td>20140214</td>\n",
       "      <td>http://www.pbs.org/newshour/bb/significance-sw...</td>\n",
       "    </tr>\n",
       "    <tr>\n",
       "      <th>1307</th>\n",
       "      <td>286464738</td>\n",
       "      <td>20140219</td>\n",
       "      <td>201402</td>\n",
       "      <td>2014</td>\n",
       "      <td>2014.1342</td>\n",
       "      <td>NaN</td>\n",
       "      <td>NaN</td>\n",
       "      <td>NaN</td>\n",
       "      <td>NaN</td>\n",
       "      <td>NaN</td>\n",
       "      <td>...</td>\n",
       "      <td>-2552151</td>\n",
       "      <td>4</td>\n",
       "      <td>Geneva, Genè, Switzerland</td>\n",
       "      <td>SZ</td>\n",
       "      <td>SZ07</td>\n",
       "      <td>46.1956</td>\n",
       "      <td>6.14811</td>\n",
       "      <td>-2552151</td>\n",
       "      <td>20140219</td>\n",
       "      <td>http://www.theglobeandmail.com/news/world/who-...</td>\n",
       "    </tr>\n",
       "  </tbody>\n",
       "</table>\n",
       "<p>3 rows × 58 columns</p>\n",
       "</div>"
      ],
      "text/plain": [
       "      GLOBALEVENTID   SQLDATE  MonthYear  Year  FractionDate Actor1Code  \\\n",
       "67        285305066  20140210     201402  2014     2014.1096        NaN   \n",
       "801       285923664  20140214     201402  2014     2014.1205        GBR   \n",
       "1307      286464738  20140219     201402  2014     2014.1342        NaN   \n",
       "\n",
       "     Actor1Name Actor1CountryCode Actor1KnownGroupCode Actor1EthnicCode  \\\n",
       "67          NaN               NaN                  NaN              NaN   \n",
       "801     BRITISH               GBR                  NaN              NaN   \n",
       "1307        NaN               NaN                  NaN              NaN   \n",
       "\n",
       "                            ...                         Actor2Geo_FeatureID  \\\n",
       "67                          ...                                          SZ   \n",
       "801                         ...                                          SZ   \n",
       "1307                        ...                                    -2552151   \n",
       "\n",
       "     ActionGeo_Type         ActionGeo_FullName ActionGeo_CountryCode  \\\n",
       "67                1                Switzerland                    SZ   \n",
       "801               1                Switzerland                    SZ   \n",
       "1307              4  Geneva, Genè, Switzerland                    SZ   \n",
       "\n",
       "     ActionGeo_ADM1Code ActionGeo_Lat ActionGeo_Long ActionGeo_FeatureID  \\\n",
       "67                   SZ       47.0000        8.00000                  SZ   \n",
       "801                  SZ       47.0000        8.00000                  SZ   \n",
       "1307               SZ07       46.1956        6.14811            -2552151   \n",
       "\n",
       "      DATEADDED                                          SOURCEURL  \n",
       "67     20140210  http://www.neurope.eu/article/after-swiss-refe...  \n",
       "801    20140214  http://www.pbs.org/newshour/bb/significance-sw...  \n",
       "1307   20140219  http://www.theglobeandmail.com/news/world/who-...  \n",
       "\n",
       "[3 rows x 58 columns]"
      ]
     },
     "execution_count": 28,
     "metadata": {},
     "output_type": "execute_result"
    }
   ],
   "source": [
    "swiss_df.loc[swiss_df['EventCode'] == 874]"
   ]
  },
  {
   "cell_type": "code",
   "execution_count": 30,
   "metadata": {},
   "outputs": [
    {
     "data": {
      "text/plain": [
       "<matplotlib.axes._subplots.AxesSubplot at 0x1a2038a4e0>"
      ]
     },
     "execution_count": 30,
     "metadata": {},
     "output_type": "execute_result"
    },
    {
     "data": {
      "image/png": "[encoded data removed]",
      "text/plain": [
       "<Figure size 432x288 with 1 Axes>"
      ]
     },
     "metadata": {},
     "output_type": "display_data"
    }
   ],
   "source": [
    "# Eigenmap using Goldstein Scale and AvgTone. The goal is to see if there is any correlation between these two indicators\n",
    "\n",
    "avgtone_df = swiss_df['AvgTone']\n",
    "swiss_df.plot(x='GoldsteinScale', y='AvgTone', style='o')"
   ]
  },
  {
   "cell_type": "code",
   "execution_count": null,
   "metadata": {},
   "outputs": [],
   "source": []
  }
 ],
 "metadata": {
  "kernelspec": {
   "display_name": "Python 3",
   "language": "python",
   "name": "python3"
  },
  "language_info": {
   "codemirror_mode": {
    "name": "ipython",
    "version": 3
   },
   "file_extension": ".py",
   "mimetype": "text/x-python",
   "name": "python",
   "nbconvert_exporter": "python",
   "pygments_lexer": "ipython3",
   "version": "3.6.6"
  }
 },
 "nbformat": 4,
 "nbformat_minor": 2
}
