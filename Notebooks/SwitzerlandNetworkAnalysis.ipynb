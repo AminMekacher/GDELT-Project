{
 "cells": [
  {
   "cell_type": "code",
   "execution_count": 2,
   "metadata": {},
   "outputs": [],
   "source": [
    "import pandas as pd\n",
    "import numpy as np\n",
    "\n",
    "import matplotlib.pyplot as plt\n",
    "import networkx as nx\n",
    "from community import community_louvain\n",
    "\n",
    "import pycountry\n",
    "import seaborn as sns\n",
    "\n",
    "import collections\n",
    "import jellyfish\n",
    "\n",
    "import bs4 as bs  \n",
    "import urllib.request  \n",
    "import re  \n",
    "import nltk\n",
    "\n",
    "#from py_translator import Translator\n",
    "from googletrans import Translator\n",
    "from gensim.models import Word2Vec\n",
    "\n",
    "# Importing the notebook with all the methods definition\n",
    "import importlib\n",
    "import GKG"
   ]
  },
  {
   "cell_type": "code",
   "execution_count": 3,
   "metadata": {},
   "outputs": [],
   "source": [
    "switzerland_news = pd.read_csv('switzerland_actors.csv', sep='\\t', delimiter='\\t', decimal = '.', error_bad_lines=False, \n",
    "                                  engine='c', encoding='latin-1')"
   ]
  },
  {
   "cell_type": "code",
   "execution_count": 4,
   "metadata": {},
   "outputs": [],
   "source": [
    "# Extraction of the themes mentioned in the Tunisia Actor dataframe\n",
    "theme_list = GKG.theme_list_extraction(switzerland_news)"
   ]
  },
  {
   "cell_type": "code",
   "execution_count": 5,
   "metadata": {},
   "outputs": [
    {
     "name": "stdout",
     "output_type": "stream",
     "text": [
      "Num:  100889\n"
     ]
    },
    {
     "ename": "KeyboardInterrupt",
     "evalue": "",
     "output_type": "error",
     "traceback": [
      "\u001b[0;31m---------------------------------------------------------------------------\u001b[0m",
      "\u001b[0;31mKeyboardInterrupt\u001b[0m                         Traceback (most recent call last)",
      "\u001b[0;32m<ipython-input-5-0eb4b69f8e5a>\u001b[0m in \u001b[0;36m<module>\u001b[0;34m()\u001b[0m\n\u001b[0;32m----> 1\u001b[0;31m \u001b[0mtf_total\u001b[0m\u001b[0;34m,\u001b[0m \u001b[0midf_total\u001b[0m\u001b[0;34m,\u001b[0m \u001b[0mtf_idf_total\u001b[0m \u001b[0;34m=\u001b[0m \u001b[0mGKG\u001b[0m\u001b[0;34m.\u001b[0m\u001b[0mtf_idf_computation\u001b[0m\u001b[0;34m(\u001b[0m\u001b[0mdataframe\u001b[0m\u001b[0;34m=\u001b[0m\u001b[0mswitzerland_news\u001b[0m\u001b[0;34m,\u001b[0m \u001b[0mthemes_of_interest\u001b[0m\u001b[0;34m=\u001b[0m\u001b[0mtheme_list\u001b[0m\u001b[0;34m)\u001b[0m\u001b[0;34m\u001b[0m\u001b[0m\n\u001b[0m",
      "\u001b[0;32m~/Documents/EPFL Master/MA2/GDELT Project/GDELT-Project/Notebooks/GKG.py\u001b[0m in \u001b[0;36mtf_idf_computation\u001b[0;34m(dataframe, themes_of_interest)\u001b[0m\n\u001b[1;32m    326\u001b[0m             \u001b[0mtheme_found\u001b[0m \u001b[0;34m=\u001b[0m \u001b[0;32mFalse\u001b[0m\u001b[0;34m\u001b[0m\u001b[0m\n\u001b[1;32m    327\u001b[0m             \u001b[0;32mif\u001b[0m \u001b[0;32mnot\u001b[0m \u001b[0misinstance\u001b[0m\u001b[0;34m(\u001b[0m\u001b[0mtheme_list\u001b[0m\u001b[0;34m,\u001b[0m \u001b[0mfloat\u001b[0m\u001b[0;34m)\u001b[0m\u001b[0;34m:\u001b[0m\u001b[0;34m\u001b[0m\u001b[0m\n\u001b[0;32m--> 328\u001b[0;31m                 \u001b[0;32mfor\u001b[0m \u001b[0mtheme\u001b[0m \u001b[0;32min\u001b[0m \u001b[0mtheme_list\u001b[0m\u001b[0;34m.\u001b[0m\u001b[0msplit\u001b[0m\u001b[0;34m(\u001b[0m\u001b[0;34m';'\u001b[0m\u001b[0;34m)\u001b[0m\u001b[0;34m:\u001b[0m\u001b[0;34m\u001b[0m\u001b[0m\n\u001b[0m\u001b[1;32m    329\u001b[0m                     \u001b[0;32mif\u001b[0m \u001b[0mtheme\u001b[0m\u001b[0;34m:\u001b[0m\u001b[0;34m\u001b[0m\u001b[0m\n\u001b[1;32m    330\u001b[0m                         \u001b[0mtheme_temp\u001b[0m \u001b[0;34m=\u001b[0m \u001b[0mtheme\u001b[0m\u001b[0;34m.\u001b[0m\u001b[0msplit\u001b[0m\u001b[0;34m(\u001b[0m\u001b[0;34m','\u001b[0m\u001b[0;34m)\u001b[0m\u001b[0;34m[\u001b[0m\u001b[0;36m0\u001b[0m\u001b[0;34m]\u001b[0m\u001b[0;34m\u001b[0m\u001b[0m\n",
      "\u001b[0;31mKeyboardInterrupt\u001b[0m: "
     ]
    }
   ],
   "source": [
    "tf_total, idf_total, tf_idf_total = GKG.tf_idf_computation(dataframe=switzerland_news, themes_of_interest=theme_list)"
   ]
  },
  {
   "cell_type": "code",
   "execution_count": null,
   "metadata": {},
   "outputs": [],
   "source": [
    "# Cleaning the idf dictionary to keep only the most common themes in the news\n",
    "idf_total_clean = pd.DataFrame(columns=['theme'])\n",
    "count = 0\n",
    "for key, value in idf_total.items():\n",
    "    if value > 300:\n",
    "        for count_theme in range(0, value):\n",
    "            idf_total_clean.loc[count]= key\n",
    "            count += 1\n",
    "            \n",
    "descending_order = idf_total_clean['theme'].value_counts().sort_values(ascending=False).index\n",
    "\n",
    "plt.figure(figsize=(8,9))\n",
    "g = sns.countplot(y=idf_total_clean['theme'], order=descending_order)\n",
    "g.set_ylabel('Themes')\n",
    "g.set_title('Occurrences of themes in the Switzerland GDELT Dataframe')\n",
    "plt.show()"
   ]
  },
  {
   "cell_type": "code",
   "execution_count": 6,
   "metadata": {},
   "outputs": [
    {
     "name": "stdout",
     "output_type": "stream",
     "text": [
      "--- Switzerland News ---\n",
      "A total of 7311 actors have been detected\n",
      "A total of 34271 edges have been drawn\n"
     ]
    }
   ],
   "source": [
    "# Actor network creation\n",
    "G_actor = nx.Graph()\n",
    "GKG.social_graph_creation(G_actor, switzerland_news)\n",
    "\n",
    "list_actor = list(G_actor.nodes)\n",
    "nodes_actor = len(list(G_actor.nodes))\n",
    "edges_actor = len(list(G_actor.edges))\n",
    "print(\"--- Switzerland News ---\")\n",
    "print(\"A total of %d actors have been detected\" % nodes_actor)\n",
    "print(\"A total of %d edges have been drawn\" % edges_actor)\n"
   ]
  },
  {
   "cell_type": "code",
   "execution_count": 7,
   "metadata": {},
   "outputs": [],
   "source": [
    "# Computation of the page rank for each actor. This value is then assigned as an attribute\n",
    "\n",
    "pagerank_actor = nx.algorithms.link_analysis.pagerank_alg.pagerank(G_actor)\n",
    "        \n",
    "for actor in list(G_actor.nodes):\n",
    "    G_actor.node[actor]['pageRank'] = float(pagerank_actor[actor])"
   ]
  },
  {
   "cell_type": "code",
   "execution_count": 8,
   "metadata": {},
   "outputs": [],
   "source": [
    "# By using the PageRank attribute, we can extract the 10 most influential actors in the network\n",
    "\n",
    "actor_dict = dict(G_actor.nodes)\n",
    "sorted_actor_dict = dict(sorted(actor_dict.items(), key = lambda x: x[1]['pageRank'], reverse=True))\n",
    "\n",
    "topk_actor = GKG.topk_actor_extraction(sorted_actor_dict, k=10)"
   ]
  },
  {
   "cell_type": "code",
   "execution_count": 9,
   "metadata": {},
   "outputs": [],
   "source": [
    "# Study of the cliques in the actor social network\n",
    "\n",
    "partition = community_louvain.best_partition(G_actor)\n",
    "for node_actor in list(G_actor.nodes):\n",
    "    G_actor.node[node_actor]['community'] = partition[node_actor]\n",
    "\n",
    "filepath_actor = '../Gephi Files/switzerland_news.gexf'\n",
    "nx.write_gexf(G_actor, filepath_actor, version=\"1.2draft\")"
   ]
  },
  {
   "cell_type": "code",
   "execution_count": 12,
   "metadata": {},
   "outputs": [
    {
     "name": "stdout",
     "output_type": "stream",
     "text": [
      "--- Tunisia Themes ---\n",
      "A total of 40 themes have been detected\n",
      "A total of 12158 edges have been drawn\n"
     ]
    }
   ],
   "source": [
    "# Theme network generation\n",
    "\n",
    "G_themes = nx.Graph()\n",
    "G_themes = nx.create_empty_copy(G_actor)\n",
    "list_actor = list(G_themes.nodes)\n",
    "GKG.theme_network_creation(G_themes, list_actor, switzerland_news, theme_list, tf_idf_total)\n",
    "\n",
    "nodes_themes = len(list(G_themes.nodes)) - nodes_actor\n",
    "edges_themes = len(list(G_themes.edges))\n",
    "print(\"--- Switzerland Themes ---\")\n",
    "print(\"A total of %d themes have been detected\" % nodes_themes)\n",
    "print(\"A total of %d edges have been drawn\" % edges_themes)\n",
    "\n",
    "for theme in themes_of_interest:\n",
    "    if G_themes.has_node(theme):\n",
    "        G_themes.node[theme]['nodeType'] = 'Theme'\n",
    "    \n",
    "for node in list(G_themes.nodes):\n",
    "    if node not in themes_of_interest:\n",
    "        G_themes.node[node]['nodeType'] = 'Actor'\n",
    "\n",
    "filepath_theme = '../Gephi Files/switzerland_themes.gexf'\n",
    "nx.write_gexf(G_themes, filepath_theme, version='1.2draft')"
   ]
  },
  {
   "cell_type": "code",
   "execution_count": 13,
   "metadata": {},
   "outputs": [],
   "source": [
    "# Definition of a new graph, with only the most influential actors kept\n",
    "\n",
    "G_influence = G_themes.copy()\n",
    "nodes_to_remove = []\n",
    "\n",
    "for node in G_influence.nodes:\n",
    "    remove_node = node not in themes_of_interest and node not in topk_actor\n",
    "    #print(\"node: \", node, remove_node)\n",
    "    \n",
    "    if remove_node:\n",
    "        nodes_to_remove.append(node)\n",
    "\n",
    "G_influence.remove_nodes_from(nodes_to_remove)\n",
    "G_influence.nodes\n",
    "\n",
    "filepath_influence = '../Gephi Files/switzerland_influence.gexf'\n",
    "nx.write_gexf(G_influence, filepath_influence, version='1.2draft')"
   ]
  },
  {
   "cell_type": "code",
   "execution_count": 14,
   "metadata": {},
   "outputs": [
    {
     "name": "stdout",
     "output_type": "stream",
     "text": [
      "---  Youssef Chahed  ---\n",
      "['GENERAL_GOVERNMENT', 'LEADER', 'ELECTION', 'LEGISLATION', 'ALLIANCE']\n",
      "---  Muhammad Karki  ---\n",
      "['LEADER', 'GENERAL_GOVERNMENT', 'ELECTION', 'RELIGION', 'TERROR']\n",
      "---  El Sebsi  ---\n",
      "['LEADER', 'GENERAL_GOVERNMENT', 'ELECTION', 'BORDER', 'MEDIA_MSM']\n",
      "---  Rashid Ghannouchi  ---\n",
      "['LEADER', 'GENERAL_GOVERNMENT', 'ELECTION', 'ALLIANCE', 'BORDER']\n",
      "---  Baji Kaid Essebsi  ---\n",
      "['LEADER', 'GENERAL_GOVERNMENT', 'ELECTION', 'LEGISLATION', 'BORDER']\n",
      "---  Ben Ali  ---\n",
      "['LEADER', 'GENERAL_GOVERNMENT', 'LEGISLATION', 'TOURISM', 'RELIGION']\n",
      "---  El Abidine Ben Ali  ---\n",
      "['LEADER', 'GENERAL_GOVERNMENT', 'ELECTION', 'LEGISLATION', 'ALLIANCE']\n",
      "---  Hafedh Essebssi  ---\n",
      "['LEADER', 'GENERAL_GOVERNMENT', 'ELECTION', 'LEGISLATION', 'MEDIA_MSM']\n",
      "---  Kanzler Saad Hariri  ---\n",
      "['GENERAL_GOVERNMENT', 'LEADER', 'ELECTION', 'DEMOCRACY', 'RELIGION']\n",
      "---  Kanzler Ali  ---\n",
      "['GENERAL_GOVERNMENT', 'LEADER', 'ELECTION', 'MEDIA_MSM', 'TERROR']\n"
     ]
    }
   ],
   "source": [
    "strongest_themes = {}\n",
    "\n",
    "for node in G_influence.nodes:\n",
    "    if G_influence.node[node]['nodeType'] == 'Actor':\n",
    "    \n",
    "        theme_list = []\n",
    "        weight_list = []\n",
    "\n",
    "        strongest_themes[node] = {}\n",
    "        edges = list(G_influence.edges(node, data=True))\n",
    "\n",
    "        for edge in edges:\n",
    "            theme_edge = edge[1]\n",
    "            weight_edge = edge[2]['weight']\n",
    "\n",
    "            theme_list.append(theme_edge)\n",
    "            weight_list.append(weight_edge)\n",
    "    \n",
    "        index_themes = np.flip(np.argsort(weight_list))[0:5]\n",
    "        \n",
    "        print(\"--- \", node, \" ---\")\n",
    "            \n",
    "        print([theme_list[index] for index in index_themes])"
   ]
  }
 ],
 "metadata": {
  "kernelspec": {
   "display_name": "Python 3",
   "language": "python",
   "name": "python3"
  },
  "language_info": {
   "codemirror_mode": {
    "name": "ipython",
    "version": 3
   },
   "file_extension": ".py",
   "mimetype": "text/x-python",
   "name": "python",
   "nbconvert_exporter": "python",
   "pygments_lexer": "ipython3",
   "version": "3.6.6"
  }
 },
 "nbformat": 4,
 "nbformat_minor": 2
}
